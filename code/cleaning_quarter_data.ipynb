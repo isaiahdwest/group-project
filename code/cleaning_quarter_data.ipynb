{
 "cells": [
  {
   "cell_type": "code",
   "execution_count": 1,
   "id": "welsh-reward",
   "metadata": {},
   "outputs": [],
   "source": [
    "import numpy as np\n",
    "import pandas as pd"
   ]
  },
  {
   "cell_type": "code",
   "execution_count": 2,
   "id": "hindu-occasion",
   "metadata": {},
   "outputs": [],
   "source": [
    "profit = pd.read_csv('../alt_data/quarterly_data/corp_profit_before_after_tax.csv')\n",
    "debt = pd.read_csv('../alt_data/quarterly_data/fed_debt_as_percent_gdp.csv')\n",
    "m1 = pd.read_csv('../alt_data/quarterly_data/m1_velocity_quarter.csv')"
   ]
  },
  {
   "cell_type": "code",
   "execution_count": 3,
   "id": "public-freeware",
   "metadata": {},
   "outputs": [],
   "source": [
    "quarter = pd.merge(profit, debt, how='left', on='DATE')"
   ]
  },
  {
   "cell_type": "code",
   "execution_count": 4,
   "id": "suited-slovakia",
   "metadata": {},
   "outputs": [],
   "source": [
    "quarter = pd.merge(quarter, m1, how='left', on='DATE')"
   ]
  },
  {
   "cell_type": "code",
   "execution_count": 5,
   "id": "loving-roommate",
   "metadata": {},
   "outputs": [],
   "source": [
    "quarter.rename(columns={\n",
    "               'CP':'corp_profit_aftertax_without',\n",
    "               'CPATAX':'corp_profit_aftertax_with',\n",
    "               'A053RC1Q027SBEA':'corp_profit_beforetax_without',\n",
    "               'GFDEGDQ188S':'fed_debt_precent_gdp',\n",
    "               'M1V':'m1_velocity'\n",
    "                }, inplace=True)"
   ]
  },
  {
   "cell_type": "code",
   "execution_count": 8,
   "id": "radical-korea",
   "metadata": {},
   "outputs": [],
   "source": [
    "quarter.dropna(inplace=True)"
   ]
  },
  {
   "cell_type": "code",
   "execution_count": 9,
   "id": "advisory-occurrence",
   "metadata": {},
   "outputs": [],
   "source": [
    "# quarter.to_csv('../alt_data/quarter_data.csv', index=False)"
   ]
  },
  {
   "cell_type": "code",
   "execution_count": null,
   "id": "outdoor-longitude",
   "metadata": {},
   "outputs": [],
   "source": []
  }
 ],
 "metadata": {
  "kernelspec": {
   "display_name": "Python 3",
   "language": "python",
   "name": "python3"
  },
  "language_info": {
   "codemirror_mode": {
    "name": "ipython",
    "version": 3
   },
   "file_extension": ".py",
   "mimetype": "text/x-python",
   "name": "python",
   "nbconvert_exporter": "python",
   "pygments_lexer": "ipython3",
   "version": "3.8.8"
  }
 },
 "nbformat": 4,
 "nbformat_minor": 5
}
