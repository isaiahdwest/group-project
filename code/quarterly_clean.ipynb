{
 "cells": [
  {
   "cell_type": "code",
   "execution_count": 1,
   "id": "sufficient-mustang",
   "metadata": {},
   "outputs": [],
   "source": [
    "import numpy as np\n",
    "import pandas as pd"
   ]
  },
  {
   "cell_type": "code",
   "execution_count": 2,
   "id": "detailed-crisis",
   "metadata": {},
   "outputs": [],
   "source": [
    "profit = pd.read_csv('../alt_data/quarterly_data/corp_profit_before_after_tax.csv')\n",
    "debt = pd.read_csv('../alt_data/quarterly_data/fed_debt_as_percent_gdp.csv')\n",
    "m1 = pd.read_csv('../alt_data/quarterly_data/m1_velocity_quarter.csv')"
   ]
  },
  {
   "cell_type": "code",
   "execution_count": 3,
   "id": "chief-contrast",
   "metadata": {},
   "outputs": [
    {
     "name": "stdout",
     "output_type": "stream",
     "text": [
      "<class 'pandas.core.frame.DataFrame'>\n",
      "RangeIndex: 296 entries, 0 to 295\n",
      "Data columns (total 4 columns):\n",
      " #   Column           Non-Null Count  Dtype  \n",
      "---  ------           --------------  -----  \n",
      " 0   DATE             296 non-null    object \n",
      " 1   CP               296 non-null    float64\n",
      " 2   CPATAX           296 non-null    float64\n",
      " 3   A053RC1Q027SBEA  296 non-null    float64\n",
      "dtypes: float64(3), object(1)\n",
      "memory usage: 9.4+ KB\n"
     ]
    }
   ],
   "source": [
    "profit.info()"
   ]
  },
  {
   "cell_type": "code",
   "execution_count": 4,
   "id": "mediterranean-ordinary",
   "metadata": {},
   "outputs": [
    {
     "name": "stdout",
     "output_type": "stream",
     "text": [
      "<class 'pandas.core.frame.DataFrame'>\n",
      "RangeIndex: 220 entries, 0 to 219\n",
      "Data columns (total 2 columns):\n",
      " #   Column       Non-Null Count  Dtype  \n",
      "---  ------       --------------  -----  \n",
      " 0   DATE         220 non-null    object \n",
      " 1   GFDEGDQ188S  220 non-null    float64\n",
      "dtypes: float64(1), object(1)\n",
      "memory usage: 3.6+ KB\n"
     ]
    }
   ],
   "source": [
    "debt.info()"
   ]
  },
  {
   "cell_type": "code",
   "execution_count": 5,
   "id": "burning-filename",
   "metadata": {},
   "outputs": [
    {
     "name": "stdout",
     "output_type": "stream",
     "text": [
      "<class 'pandas.core.frame.DataFrame'>\n",
      "RangeIndex: 248 entries, 0 to 247\n",
      "Data columns (total 2 columns):\n",
      " #   Column  Non-Null Count  Dtype  \n",
      "---  ------  --------------  -----  \n",
      " 0   DATE    248 non-null    object \n",
      " 1   M1V     248 non-null    float64\n",
      "dtypes: float64(1), object(1)\n",
      "memory usage: 4.0+ KB\n"
     ]
    }
   ],
   "source": [
    "m1.info()"
   ]
  },
  {
   "cell_type": "code",
   "execution_count": 6,
   "id": "graduate-label",
   "metadata": {},
   "outputs": [],
   "source": [
    "quarter = pd.merge(profit, debt, how='left', on='DATE')"
   ]
  },
  {
   "cell_type": "code",
   "execution_count": 7,
   "id": "parallel-burlington",
   "metadata": {},
   "outputs": [
    {
     "name": "stdout",
     "output_type": "stream",
     "text": [
      "<class 'pandas.core.frame.DataFrame'>\n",
      "Int64Index: 296 entries, 0 to 295\n",
      "Data columns (total 5 columns):\n",
      " #   Column           Non-Null Count  Dtype  \n",
      "---  ------           --------------  -----  \n",
      " 0   DATE             296 non-null    object \n",
      " 1   CP               296 non-null    float64\n",
      " 2   CPATAX           296 non-null    float64\n",
      " 3   A053RC1Q027SBEA  296 non-null    float64\n",
      " 4   GFDEGDQ188S      220 non-null    float64\n",
      "dtypes: float64(4), object(1)\n",
      "memory usage: 13.9+ KB\n"
     ]
    }
   ],
   "source": [
    "quarter.info()"
   ]
  },
  {
   "cell_type": "code",
   "execution_count": 8,
   "id": "false-blind",
   "metadata": {},
   "outputs": [],
   "source": [
    "quarter = pd.merge(quarter, m1, how='left', on='DATE')"
   ]
  },
  {
   "cell_type": "code",
   "execution_count": 9,
   "id": "unlimited-participation",
   "metadata": {},
   "outputs": [
    {
     "name": "stdout",
     "output_type": "stream",
     "text": [
      "<class 'pandas.core.frame.DataFrame'>\n",
      "Int64Index: 296 entries, 0 to 295\n",
      "Data columns (total 6 columns):\n",
      " #   Column           Non-Null Count  Dtype  \n",
      "---  ------           --------------  -----  \n",
      " 0   DATE             296 non-null    object \n",
      " 1   CP               296 non-null    float64\n",
      " 2   CPATAX           296 non-null    float64\n",
      " 3   A053RC1Q027SBEA  296 non-null    float64\n",
      " 4   GFDEGDQ188S      220 non-null    float64\n",
      " 5   M1V              248 non-null    float64\n",
      "dtypes: float64(5), object(1)\n",
      "memory usage: 16.2+ KB\n"
     ]
    }
   ],
   "source": [
    "quarter.info()"
   ]
  },
  {
   "cell_type": "code",
   "execution_count": 14,
   "id": "supposed-context",
   "metadata": {},
   "outputs": [],
   "source": [
    "quarter.rename(columns={\n",
    "               'CP':'corp_profit_aftertax_without',\n",
    "               'CPATAX':'corp_profit_aftertax_with',\n",
    "               'A053RC1Q027SBEA':'corp_profit_beforetax_without',\n",
    "               'GFDEGDQ188S':'fed_debt_precent_gdp',\n",
    "               'M1V':'m1_velocity'\n",
    "                }, inplace=True)"
   ]
  },
  {
   "cell_type": "code",
   "execution_count": 15,
   "id": "together-hollow",
   "metadata": {},
   "outputs": [],
   "source": [
    "quarter.to_csv('../alt_data/quarter_data.csv', index=False)"
   ]
  },
  {
   "cell_type": "code",
   "execution_count": null,
   "id": "prospective-flush",
   "metadata": {},
   "outputs": [],
   "source": []
  }
 ],
 "metadata": {
  "kernelspec": {
   "display_name": "Python 3",
   "language": "python",
   "name": "python3"
  },
  "language_info": {
   "codemirror_mode": {
    "name": "ipython",
    "version": 3
   },
   "file_extension": ".py",
   "mimetype": "text/x-python",
   "name": "python",
   "nbconvert_exporter": "python",
   "pygments_lexer": "ipython3",
   "version": "3.8.8"
  }
 },
 "nbformat": 4,
 "nbformat_minor": 5
}
