{
 "cells": [
  {
   "cell_type": "code",
   "execution_count": 1,
   "id": "floating-abuse",
   "metadata": {},
   "outputs": [],
   "source": [
    "import numpy as np\n",
    "import pandas as pd"
   ]
  },
  {
   "cell_type": "code",
   "execution_count": 2,
   "id": "worse-layout",
   "metadata": {},
   "outputs": [],
   "source": [
    "profit = pd.read_csv('../alt_data/quarterly_data/corp_profit_before_after_tax.csv')\n",
    "debt = pd.read_csv('../alt_data/quarterly_data/fed_debt_as_percent_gdp.csv')\n",
    "m1 = pd.read_csv('../alt_data/quarterly_data/m1_velocity_quarter.csv')"
   ]
  },
  {
   "cell_type": "code",
   "execution_count": 3,
   "id": "younger-diving",
   "metadata": {},
   "outputs": [
    {
     "name": "stdout",
     "output_type": "stream",
     "text": [
      "<class 'pandas.core.frame.DataFrame'>\n",
      "RangeIndex: 296 entries, 0 to 295\n",
      "Data columns (total 4 columns):\n",
      " #   Column           Non-Null Count  Dtype  \n",
      "---  ------           --------------  -----  \n",
      " 0   DATE             296 non-null    object \n",
      " 1   CP               296 non-null    float64\n",
      " 2   CPATAX           296 non-null    float64\n",
      " 3   A053RC1Q027SBEA  296 non-null    float64\n",
      "dtypes: float64(3), object(1)\n",
      "memory usage: 9.4+ KB\n"
     ]
    }
   ],
   "source": [
    "profit.info()"
   ]
  },
  {
   "cell_type": "code",
   "execution_count": 4,
   "id": "consistent-importance",
   "metadata": {},
   "outputs": [
    {
     "name": "stdout",
     "output_type": "stream",
     "text": [
      "<class 'pandas.core.frame.DataFrame'>\n",
      "RangeIndex: 220 entries, 0 to 219\n",
      "Data columns (total 2 columns):\n",
      " #   Column       Non-Null Count  Dtype  \n",
      "---  ------       --------------  -----  \n",
      " 0   DATE         220 non-null    object \n",
      " 1   GFDEGDQ188S  220 non-null    float64\n",
      "dtypes: float64(1), object(1)\n",
      "memory usage: 3.6+ KB\n"
     ]
    }
   ],
   "source": [
    "debt.info()"
   ]
  },
  {
   "cell_type": "code",
   "execution_count": 5,
   "id": "bacterial-investigation",
   "metadata": {},
   "outputs": [
    {
     "name": "stdout",
     "output_type": "stream",
     "text": [
      "<class 'pandas.core.frame.DataFrame'>\n",
      "RangeIndex: 248 entries, 0 to 247\n",
      "Data columns (total 2 columns):\n",
      " #   Column  Non-Null Count  Dtype  \n",
      "---  ------  --------------  -----  \n",
      " 0   DATE    248 non-null    object \n",
      " 1   M1V     248 non-null    float64\n",
      "dtypes: float64(1), object(1)\n",
      "memory usage: 4.0+ KB\n"
     ]
    }
   ],
   "source": [
    "m1.info()"
   ]
  },
  {
   "cell_type": "code",
   "execution_count": 6,
   "id": "corporate-trinidad",
   "metadata": {},
   "outputs": [],
   "source": [
    "quarter = pd.merge(profit, debt, how='left', on='DATE')"
   ]
  },
  {
   "cell_type": "code",
   "execution_count": 7,
   "id": "alive-intro",
   "metadata": {},
   "outputs": [
    {
     "name": "stdout",
     "output_type": "stream",
     "text": [
      "<class 'pandas.core.frame.DataFrame'>\n",
      "Int64Index: 296 entries, 0 to 295\n",
      "Data columns (total 5 columns):\n",
      " #   Column           Non-Null Count  Dtype  \n",
      "---  ------           --------------  -----  \n",
      " 0   DATE             296 non-null    object \n",
      " 1   CP               296 non-null    float64\n",
      " 2   CPATAX           296 non-null    float64\n",
      " 3   A053RC1Q027SBEA  296 non-null    float64\n",
      " 4   GFDEGDQ188S      220 non-null    float64\n",
      "dtypes: float64(4), object(1)\n",
      "memory usage: 13.9+ KB\n"
     ]
    }
   ],
   "source": [
    "quarter.info()"
   ]
  },
  {
   "cell_type": "code",
   "execution_count": 8,
   "id": "royal-ability",
   "metadata": {},
   "outputs": [],
   "source": [
    "quarter = pd.merge(quarter, m1, how='left', on='DATE')"
   ]
  },
  {
   "cell_type": "code",
   "execution_count": 9,
   "id": "grand-reasoning",
   "metadata": {},
   "outputs": [
    {
     "name": "stdout",
     "output_type": "stream",
     "text": [
      "<class 'pandas.core.frame.DataFrame'>\n",
      "Int64Index: 296 entries, 0 to 295\n",
      "Data columns (total 6 columns):\n",
      " #   Column           Non-Null Count  Dtype  \n",
      "---  ------           --------------  -----  \n",
      " 0   DATE             296 non-null    object \n",
      " 1   CP               296 non-null    float64\n",
      " 2   CPATAX           296 non-null    float64\n",
      " 3   A053RC1Q027SBEA  296 non-null    float64\n",
      " 4   GFDEGDQ188S      220 non-null    float64\n",
      " 5   M1V              248 non-null    float64\n",
      "dtypes: float64(5), object(1)\n",
      "memory usage: 16.2+ KB\n"
     ]
    }
   ],
   "source": [
    "quarter.info()"
   ]
  },
  {
   "cell_type": "code",
   "execution_count": 10,
   "id": "conditional-black",
   "metadata": {},
   "outputs": [
    {
     "data": {
      "text/html": [
       "<div>\n",
       "<style scoped>\n",
       "    .dataframe tbody tr th:only-of-type {\n",
       "        vertical-align: middle;\n",
       "    }\n",
       "\n",
       "    .dataframe tbody tr th {\n",
       "        vertical-align: top;\n",
       "    }\n",
       "\n",
       "    .dataframe thead th {\n",
       "        text-align: right;\n",
       "    }\n",
       "</style>\n",
       "<table border=\"1\" class=\"dataframe\">\n",
       "  <thead>\n",
       "    <tr style=\"text-align: right;\">\n",
       "      <th></th>\n",
       "      <th>DATE</th>\n",
       "      <th>CP</th>\n",
       "      <th>CPATAX</th>\n",
       "      <th>A053RC1Q027SBEA</th>\n",
       "      <th>GFDEGDQ188S</th>\n",
       "      <th>M1V</th>\n",
       "    </tr>\n",
       "  </thead>\n",
       "  <tbody>\n",
       "    <tr>\n",
       "      <th>0</th>\n",
       "      <td>1947-01-01</td>\n",
       "      <td>21.970</td>\n",
       "      <td>9.959</td>\n",
       "      <td>33.466</td>\n",
       "      <td>NaN</td>\n",
       "      <td>NaN</td>\n",
       "    </tr>\n",
       "    <tr>\n",
       "      <th>1</th>\n",
       "      <td>1947-04-01</td>\n",
       "      <td>20.788</td>\n",
       "      <td>13.603</td>\n",
       "      <td>31.668</td>\n",
       "      <td>NaN</td>\n",
       "      <td>NaN</td>\n",
       "    </tr>\n",
       "    <tr>\n",
       "      <th>2</th>\n",
       "      <td>1947-07-01</td>\n",
       "      <td>20.564</td>\n",
       "      <td>13.868</td>\n",
       "      <td>31.288</td>\n",
       "      <td>NaN</td>\n",
       "      <td>NaN</td>\n",
       "    </tr>\n",
       "    <tr>\n",
       "      <th>3</th>\n",
       "      <td>1947-10-01</td>\n",
       "      <td>22.451</td>\n",
       "      <td>14.455</td>\n",
       "      <td>34.123</td>\n",
       "      <td>NaN</td>\n",
       "      <td>NaN</td>\n",
       "    </tr>\n",
       "    <tr>\n",
       "      <th>4</th>\n",
       "      <td>1948-01-01</td>\n",
       "      <td>23.739</td>\n",
       "      <td>17.971</td>\n",
       "      <td>35.747</td>\n",
       "      <td>NaN</td>\n",
       "      <td>NaN</td>\n",
       "    </tr>\n",
       "    <tr>\n",
       "      <th>...</th>\n",
       "      <td>...</td>\n",
       "      <td>...</td>\n",
       "      <td>...</td>\n",
       "      <td>...</td>\n",
       "      <td>...</td>\n",
       "      <td>...</td>\n",
       "    </tr>\n",
       "    <tr>\n",
       "      <th>291</th>\n",
       "      <td>2019-10-01</td>\n",
       "      <td>2000.736</td>\n",
       "      <td>1998.944</td>\n",
       "      <td>2313.064</td>\n",
       "      <td>106.68579</td>\n",
       "      <td>5.486</td>\n",
       "    </tr>\n",
       "    <tr>\n",
       "      <th>292</th>\n",
       "      <td>2020-01-01</td>\n",
       "      <td>1739.103</td>\n",
       "      <td>1779.480</td>\n",
       "      <td>1994.653</td>\n",
       "      <td>107.71144</td>\n",
       "      <td>5.247</td>\n",
       "    </tr>\n",
       "    <tr>\n",
       "      <th>293</th>\n",
       "      <td>2020-04-01</td>\n",
       "      <td>1557.064</td>\n",
       "      <td>1589.360</td>\n",
       "      <td>1793.842</td>\n",
       "      <td>135.64081</td>\n",
       "      <td>1.555</td>\n",
       "    </tr>\n",
       "    <tr>\n",
       "      <th>294</th>\n",
       "      <td>2020-07-01</td>\n",
       "      <td>2118.856</td>\n",
       "      <td>2018.481</td>\n",
       "      <td>2426.105</td>\n",
       "      <td>127.27950</td>\n",
       "      <td>1.248</td>\n",
       "    </tr>\n",
       "    <tr>\n",
       "      <th>295</th>\n",
       "      <td>2020-10-01</td>\n",
       "      <td>2082.470</td>\n",
       "      <td>1951.445</td>\n",
       "      <td>2425.326</td>\n",
       "      <td>129.09116</td>\n",
       "      <td>1.220</td>\n",
       "    </tr>\n",
       "  </tbody>\n",
       "</table>\n",
       "<p>296 rows × 6 columns</p>\n",
       "</div>"
      ],
      "text/plain": [
       "           DATE        CP    CPATAX  A053RC1Q027SBEA  GFDEGDQ188S    M1V\n",
       "0    1947-01-01    21.970     9.959           33.466          NaN    NaN\n",
       "1    1947-04-01    20.788    13.603           31.668          NaN    NaN\n",
       "2    1947-07-01    20.564    13.868           31.288          NaN    NaN\n",
       "3    1947-10-01    22.451    14.455           34.123          NaN    NaN\n",
       "4    1948-01-01    23.739    17.971           35.747          NaN    NaN\n",
       "..          ...       ...       ...              ...          ...    ...\n",
       "291  2019-10-01  2000.736  1998.944         2313.064    106.68579  5.486\n",
       "292  2020-01-01  1739.103  1779.480         1994.653    107.71144  5.247\n",
       "293  2020-04-01  1557.064  1589.360         1793.842    135.64081  1.555\n",
       "294  2020-07-01  2118.856  2018.481         2426.105    127.27950  1.248\n",
       "295  2020-10-01  2082.470  1951.445         2425.326    129.09116  1.220\n",
       "\n",
       "[296 rows x 6 columns]"
      ]
     },
     "execution_count": 10,
     "metadata": {},
     "output_type": "execute_result"
    }
   ],
   "source": [
    "quarter"
   ]
  },
  {
   "cell_type": "code",
   "execution_count": 11,
   "id": "racial-detection",
   "metadata": {},
   "outputs": [],
   "source": [
    "quarter.to_csv('../alt_data/quarter_data.csv', index=False)"
   ]
  },
  {
   "cell_type": "code",
   "execution_count": null,
   "id": "basic-retail",
   "metadata": {},
   "outputs": [],
   "source": []
  }
 ],
 "metadata": {
  "kernelspec": {
   "display_name": "Python 3",
   "language": "python",
   "name": "python3"
  },
  "language_info": {
   "codemirror_mode": {
    "name": "ipython",
    "version": 3
   },
   "file_extension": ".py",
   "mimetype": "text/x-python",
   "name": "python",
   "nbconvert_exporter": "python",
   "pygments_lexer": "ipython3",
   "version": "3.8.8"
  }
 },
 "nbformat": 4,
 "nbformat_minor": 5
}
