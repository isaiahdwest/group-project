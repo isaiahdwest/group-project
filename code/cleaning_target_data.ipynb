{
 "cells": [
  {
   "cell_type": "code",
   "execution_count": 1,
   "id": "vocal-oracle",
   "metadata": {},
   "outputs": [],
   "source": [
    "import numpy as np\n",
    "import pandas as pd"
   ]
  },
  {
   "cell_type": "code",
   "execution_count": 2,
   "id": "particular-brown",
   "metadata": {},
   "outputs": [],
   "source": [
    "targets = pd.read_csv('../alt_data/target_data/target_data.csv')\n",
    "leisure = pd.read_csv('../alt_data/target_data/target_leisure_hospitality.csv')"
   ]
  },
  {
   "cell_type": "code",
   "execution_count": 3,
   "id": "polyphonic-learning",
   "metadata": {},
   "outputs": [],
   "source": [
    "targets.rename(columns={\n",
    "    'USTRADE': 'target_retail',\n",
    "    'USMINE': 'target_mining_logging',\n",
    "    'USCONS': 'target_construction',\n",
    "    'USEHS': 'target_edu_health',\n",
    "    'MANEMP': 'target_manufacturing',\n",
    "    'USPBS': 'target_prof_business',\n",
    "    'USGOVT': 'target_gov'\n",
    "}, inplace=True)"
   ]
  },
  {
   "cell_type": "code",
   "execution_count": 4,
   "id": "bored-ground",
   "metadata": {},
   "outputs": [],
   "source": [
    "leisure.rename(columns={\n",
    "    'USLAH':'target_leisure_hospitality'\n",
    "}, inplace=True)"
   ]
  },
  {
   "cell_type": "code",
   "execution_count": 5,
   "id": "loved-ranking",
   "metadata": {},
   "outputs": [],
   "source": [
    "leisure['DATE'] = pd.to_datetime(targets['DATE']).dt.to_period('M')\n",
    "targets['DATE'] = pd.to_datetime(targets['DATE']).dt.to_period('M')"
   ]
  },
  {
   "cell_type": "code",
   "execution_count": 6,
   "id": "legendary-practice",
   "metadata": {},
   "outputs": [],
   "source": [
    "targets.set_index('DATE', inplace=True)"
   ]
  },
  {
   "cell_type": "code",
   "execution_count": 7,
   "id": "republican-dairy",
   "metadata": {},
   "outputs": [],
   "source": [
    "leisure.set_index('DATE', inplace=True)"
   ]
  },
  {
   "cell_type": "code",
   "execution_count": 8,
   "id": "collaborative-authentication",
   "metadata": {},
   "outputs": [],
   "source": [
    "targets = pd.merge(targets, leisure, left_index=True, right_index=True)"
   ]
  },
  {
   "cell_type": "code",
   "execution_count": 9,
   "id": "motivated-mouse",
   "metadata": {},
   "outputs": [
    {
     "data": {
      "text/html": [
       "<div>\n",
       "<style scoped>\n",
       "    .dataframe tbody tr th:only-of-type {\n",
       "        vertical-align: middle;\n",
       "    }\n",
       "\n",
       "    .dataframe tbody tr th {\n",
       "        vertical-align: top;\n",
       "    }\n",
       "\n",
       "    .dataframe thead th {\n",
       "        text-align: right;\n",
       "    }\n",
       "</style>\n",
       "<table border=\"1\" class=\"dataframe\">\n",
       "  <thead>\n",
       "    <tr style=\"text-align: right;\">\n",
       "      <th></th>\n",
       "      <th>target_retail</th>\n",
       "      <th>target_mining_logging</th>\n",
       "      <th>target_construction</th>\n",
       "      <th>target_edu_health</th>\n",
       "      <th>target_manufacturing</th>\n",
       "      <th>target_prof_business</th>\n",
       "      <th>target_gov</th>\n",
       "      <th>target_leisure_hospitality</th>\n",
       "    </tr>\n",
       "    <tr>\n",
       "      <th>DATE</th>\n",
       "      <th></th>\n",
       "      <th></th>\n",
       "      <th></th>\n",
       "      <th></th>\n",
       "      <th></th>\n",
       "      <th></th>\n",
       "      <th></th>\n",
       "      <th></th>\n",
       "    </tr>\n",
       "  </thead>\n",
       "  <tbody>\n",
       "    <tr>\n",
       "      <th>1939-01</th>\n",
       "      <td>3107.8</td>\n",
       "      <td>882</td>\n",
       "      <td>1139</td>\n",
       "      <td>1381</td>\n",
       "      <td>9077</td>\n",
       "      <td>1943</td>\n",
       "      <td>3988</td>\n",
       "      <td>1860</td>\n",
       "    </tr>\n",
       "    <tr>\n",
       "      <th>1939-02</th>\n",
       "      <td>3121.8</td>\n",
       "      <td>884</td>\n",
       "      <td>1162</td>\n",
       "      <td>1384</td>\n",
       "      <td>9175</td>\n",
       "      <td>1950</td>\n",
       "      <td>4001</td>\n",
       "      <td>1867</td>\n",
       "    </tr>\n",
       "    <tr>\n",
       "      <th>1939-03</th>\n",
       "      <td>3139.7</td>\n",
       "      <td>883</td>\n",
       "      <td>1225</td>\n",
       "      <td>1387</td>\n",
       "      <td>9275</td>\n",
       "      <td>1958</td>\n",
       "      <td>4002</td>\n",
       "      <td>1877</td>\n",
       "    </tr>\n",
       "    <tr>\n",
       "      <th>1939-04</th>\n",
       "      <td>3154.8</td>\n",
       "      <td>624</td>\n",
       "      <td>1249</td>\n",
       "      <td>1389</td>\n",
       "      <td>9309</td>\n",
       "      <td>1957</td>\n",
       "      <td>4002</td>\n",
       "      <td>1887</td>\n",
       "    </tr>\n",
       "    <tr>\n",
       "      <th>1939-05</th>\n",
       "      <td>3151.7</td>\n",
       "      <td>737</td>\n",
       "      <td>1262</td>\n",
       "      <td>1399</td>\n",
       "      <td>9299</td>\n",
       "      <td>1968</td>\n",
       "      <td>4006</td>\n",
       "      <td>1888</td>\n",
       "    </tr>\n",
       "  </tbody>\n",
       "</table>\n",
       "</div>"
      ],
      "text/plain": [
       "         target_retail  target_mining_logging  target_construction  \\\n",
       "DATE                                                                 \n",
       "1939-01         3107.8                    882                 1139   \n",
       "1939-02         3121.8                    884                 1162   \n",
       "1939-03         3139.7                    883                 1225   \n",
       "1939-04         3154.8                    624                 1249   \n",
       "1939-05         3151.7                    737                 1262   \n",
       "\n",
       "         target_edu_health  target_manufacturing  target_prof_business  \\\n",
       "DATE                                                                     \n",
       "1939-01               1381                  9077                  1943   \n",
       "1939-02               1384                  9175                  1950   \n",
       "1939-03               1387                  9275                  1958   \n",
       "1939-04               1389                  9309                  1957   \n",
       "1939-05               1399                  9299                  1968   \n",
       "\n",
       "         target_gov  target_leisure_hospitality  \n",
       "DATE                                             \n",
       "1939-01        3988                        1860  \n",
       "1939-02        4001                        1867  \n",
       "1939-03        4002                        1877  \n",
       "1939-04        4002                        1887  \n",
       "1939-05        4006                        1888  "
      ]
     },
     "execution_count": 9,
     "metadata": {},
     "output_type": "execute_result"
    }
   ],
   "source": [
    "targets.head()"
   ]
  },
  {
   "cell_type": "code",
   "execution_count": 10,
   "id": "checked-ethernet",
   "metadata": {},
   "outputs": [
    {
     "name": "stdout",
     "output_type": "stream",
     "text": [
      "<class 'pandas.core.frame.DataFrame'>\n",
      "PeriodIndex: 986 entries, 1939-01 to 2021-02\n",
      "Freq: M\n",
      "Data columns (total 8 columns):\n",
      " #   Column                      Non-Null Count  Dtype  \n",
      "---  ------                      --------------  -----  \n",
      " 0   target_retail               986 non-null    float64\n",
      " 1   target_mining_logging       986 non-null    int64  \n",
      " 2   target_construction         986 non-null    int64  \n",
      " 3   target_edu_health           986 non-null    int64  \n",
      " 4   target_manufacturing        986 non-null    int64  \n",
      " 5   target_prof_business        986 non-null    int64  \n",
      " 6   target_gov                  986 non-null    int64  \n",
      " 7   target_leisure_hospitality  986 non-null    int64  \n",
      "dtypes: float64(1), int64(7)\n",
      "memory usage: 101.6 KB\n"
     ]
    }
   ],
   "source": [
    "targets.info()"
   ]
  },
  {
   "cell_type": "code",
   "execution_count": 11,
   "id": "interstate-terrorism",
   "metadata": {},
   "outputs": [],
   "source": [
    "# targets.to_csv('../alt_data/all_targets_data.csv')"
   ]
  },
  {
   "cell_type": "code",
   "execution_count": null,
   "id": "balanced-visitor",
   "metadata": {},
   "outputs": [],
   "source": []
  },
  {
   "cell_type": "code",
   "execution_count": null,
   "id": "retained-thesaurus",
   "metadata": {},
   "outputs": [],
   "source": []
  },
  {
   "cell_type": "code",
   "execution_count": null,
   "id": "undefined-lotus",
   "metadata": {},
   "outputs": [],
   "source": []
  },
  {
   "cell_type": "code",
   "execution_count": null,
   "id": "isolated-farming",
   "metadata": {},
   "outputs": [],
   "source": []
  },
  {
   "cell_type": "code",
   "execution_count": null,
   "id": "signed-demographic",
   "metadata": {},
   "outputs": [],
   "source": []
  },
  {
   "cell_type": "code",
   "execution_count": null,
   "id": "terminal-middle",
   "metadata": {},
   "outputs": [],
   "source": []
  }
 ],
 "metadata": {
  "kernelspec": {
   "display_name": "Python 3",
   "language": "python",
   "name": "python3"
  },
  "language_info": {
   "codemirror_mode": {
    "name": "ipython",
    "version": 3
   },
   "file_extension": ".py",
   "mimetype": "text/x-python",
   "name": "python",
   "nbconvert_exporter": "python",
   "pygments_lexer": "ipython3",
   "version": "3.8.8"
  }
 },
 "nbformat": 4,
 "nbformat_minor": 5
}
