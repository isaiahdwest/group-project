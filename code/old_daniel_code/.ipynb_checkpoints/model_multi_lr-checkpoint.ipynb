{
 "cells": [
  {
   "cell_type": "code",
   "execution_count": 15,
   "id": "romance-murray",
   "metadata": {},
   "outputs": [],
   "source": [
    "import numpy as np\n",
    "import pandas as pd\n",
    "import matplotlib.pyplot as plt\n",
    "import seaborn as sns\n",
    "\n",
    "from sklearn.model_selection import train_test_split, GridSearchCV\n",
    "from sklearn.pipeline import Pipeline\n",
    "from sklearn.preprocessing import StandardScaler\n",
    "from sklearn.metrics import mean_squared_error\n",
    "from sklearn.ensemble import RandomForestRegressor\n",
    "from sklearn.multioutput import MultiOutputRegressor\n",
    "from sklearn.linear_model import LinearRegression"
   ]
  },
  {
   "cell_type": "code",
   "execution_count": 2,
   "id": "brilliant-sister",
   "metadata": {},
   "outputs": [],
   "source": [
    "project = pd.read_csv('../alt_data/complete_final_data.csv')"
   ]
  },
  {
   "cell_type": "code",
   "execution_count": 3,
   "id": "funny-senate",
   "metadata": {},
   "outputs": [],
   "source": [
    "project['DATE'] = pd.to_datetime(project['DATE']).dt.to_period('M')"
   ]
  },
  {
   "cell_type": "code",
   "execution_count": 4,
   "id": "focused-remove",
   "metadata": {},
   "outputs": [],
   "source": [
    "project.set_index('DATE', inplace=True)"
   ]
  },
  {
   "cell_type": "code",
   "execution_count": 5,
   "id": "amazing-fitness",
   "metadata": {},
   "outputs": [],
   "source": [
    "X = project.drop(columns=['target_retail',\n",
    "                 'target_mining_logging',\n",
    "                 'target_construction',\n",
    "                 'target_edu_health',\n",
    "                 'target_manufacturing',\n",
    "                 'target_prof_business',\n",
    "                 'target_gov',\n",
    "                 'target_leisure_hospitality'])\n",
    "y = project[['target_retail',\n",
    "                 'target_mining_logging',\n",
    "                 'target_construction',\n",
    "                 'target_edu_health',\n",
    "                 'target_manufacturing',\n",
    "                 'target_prof_business',\n",
    "                 'target_gov',\n",
    "                 'target_leisure_hospitality']]"
   ]
  },
  {
   "cell_type": "code",
   "execution_count": 6,
   "id": "worth-florence",
   "metadata": {},
   "outputs": [],
   "source": [
    "X_train, X_test, y_train, y_test = train_test_split(X, y, random_state=42)"
   ]
  },
  {
   "cell_type": "code",
   "execution_count": 7,
   "id": "cellular-killer",
   "metadata": {},
   "outputs": [
    {
     "data": {
      "text/plain": [
       "(415, 22)"
      ]
     },
     "execution_count": 7,
     "metadata": {},
     "output_type": "execute_result"
    }
   ],
   "source": [
    "X_train.shape"
   ]
  },
  {
   "cell_type": "code",
   "execution_count": 8,
   "id": "resistant-population",
   "metadata": {},
   "outputs": [
    {
     "data": {
      "text/plain": [
       "(415, 8)"
      ]
     },
     "execution_count": 8,
     "metadata": {},
     "output_type": "execute_result"
    }
   ],
   "source": [
    "y_train.shape"
   ]
  },
  {
   "cell_type": "code",
   "execution_count": 9,
   "id": "perceived-shareware",
   "metadata": {},
   "outputs": [
    {
     "data": {
      "text/plain": [
       "(139, 22)"
      ]
     },
     "execution_count": 9,
     "metadata": {},
     "output_type": "execute_result"
    }
   ],
   "source": [
    "X_test.shape"
   ]
  },
  {
   "cell_type": "code",
   "execution_count": 10,
   "id": "cloudy-adrian",
   "metadata": {},
   "outputs": [
    {
     "data": {
      "text/plain": [
       "(139, 8)"
      ]
     },
     "execution_count": 10,
     "metadata": {},
     "output_type": "execute_result"
    }
   ],
   "source": [
    "y_test.shape"
   ]
  },
  {
   "cell_type": "code",
   "execution_count": 19,
   "id": "recent-cigarette",
   "metadata": {},
   "outputs": [
    {
     "data": {
      "text/plain": [
       "MultiOutputRegressor(estimator=LinearRegression())"
      ]
     },
     "execution_count": 19,
     "metadata": {},
     "output_type": "execute_result"
    }
   ],
   "source": [
    "multi_lr = MultiOutputRegressor(LinearRegression())\n",
    "\n",
    "multi_lr.fit(X_train, y_train)"
   ]
  },
  {
   "cell_type": "code",
   "execution_count": 20,
   "id": "invisible-drink",
   "metadata": {},
   "outputs": [
    {
     "data": {
      "text/plain": [
       "0.9792715233282898"
      ]
     },
     "execution_count": 20,
     "metadata": {},
     "output_type": "execute_result"
    }
   ],
   "source": [
    "multi_lr.score(X_train, y_train)"
   ]
  },
  {
   "cell_type": "code",
   "execution_count": 21,
   "id": "academic-thumb",
   "metadata": {},
   "outputs": [
    {
     "data": {
      "text/plain": [
       "0.6514038312368707"
      ]
     },
     "execution_count": 21,
     "metadata": {},
     "output_type": "execute_result"
    }
   ],
   "source": [
    "multi_lr.score(X_test, y_test)"
   ]
  },
  {
   "cell_type": "code",
   "execution_count": 23,
   "id": "flying-parcel",
   "metadata": {},
   "outputs": [
    {
     "data": {
      "text/plain": [
       "(139, 8)"
      ]
     },
     "execution_count": 23,
     "metadata": {},
     "output_type": "execute_result"
    }
   ],
   "source": [
    "multi_lr.predict(X_test).shape"
   ]
  },
  {
   "cell_type": "code",
   "execution_count": null,
   "id": "computational-concentration",
   "metadata": {},
   "outputs": [],
   "source": []
  },
  {
   "cell_type": "code",
   "execution_count": null,
   "id": "weekly-potential",
   "metadata": {},
   "outputs": [],
   "source": []
  },
  {
   "cell_type": "code",
   "execution_count": 14,
   "id": "tutorial-permit",
   "metadata": {},
   "outputs": [],
   "source": [
    "# pipe = Pipeline([\n",
    "#     ('sc', StandardScaler()),\n",
    "#     ('rf', RandomForestRegressor())\n",
    "# ])\n",
    "\n",
    "# params = {\n",
    "#     'rf__n_estimators': [75, 100, 125],\n",
    "#     'rf__min_samples_leaf': [1, 3, 5],\n",
    "#     'rf__ccp_alpha': [0.0, 0.01, 0.001],\n",
    "#     'rf__max_depth': [2, 5, 10]\n",
    "# }\n",
    "\n",
    "# gs = GridSearchCV(pipe, param_grid=params, cv=5, verbose=1)\n",
    "\n",
    "# gs.fit(X_train, y_train)"
   ]
  }
 ],
 "metadata": {
  "kernelspec": {
   "display_name": "Python 3",
   "language": "python",
   "name": "python3"
  },
  "language_info": {
   "codemirror_mode": {
    "name": "ipython",
    "version": 3
   },
   "file_extension": ".py",
   "mimetype": "text/x-python",
   "name": "python",
   "nbconvert_exporter": "python",
   "pygments_lexer": "ipython3",
   "version": "3.8.8"
  }
 },
 "nbformat": 4,
 "nbformat_minor": 5
}
