{
 "cells": [
  {
   "cell_type": "code",
   "execution_count": 1,
   "id": "charming-joyce",
   "metadata": {},
   "outputs": [],
   "source": [
    "import numpy as np\n",
    "import pandas as pd"
   ]
  },
  {
   "cell_type": "code",
   "execution_count": 2,
   "id": "rental-manchester",
   "metadata": {},
   "outputs": [],
   "source": [
    "monthly = pd.read_csv('../alt_data/monthly_data.csv')\n",
    "quarterly = pd.read_csv('../alt_data/quarter_data.csv')"
   ]
  },
  {
   "cell_type": "code",
   "execution_count": 5,
   "id": "automated-canada",
   "metadata": {},
   "outputs": [],
   "source": [
    "monthly['DATE'] = pd.to_datetime(monthly['DATE'])"
   ]
  },
  {
   "cell_type": "code",
   "execution_count": 6,
   "id": "separated-cowboy",
   "metadata": {},
   "outputs": [],
   "source": [
    "quarterly['DATE'] = pd.to_datetime(quarterly['DATE'])"
   ]
  },
  {
   "cell_type": "code",
   "execution_count": 7,
   "id": "governmental-tomorrow",
   "metadata": {},
   "outputs": [],
   "source": [
    "monthly.set_index('DATE', inplace=True)"
   ]
  },
  {
   "cell_type": "code",
   "execution_count": 8,
   "id": "owned-norman",
   "metadata": {},
   "outputs": [],
   "source": [
    "quarterly.set_index('DATE', inplace=True)"
   ]
  },
  {
   "cell_type": "code",
   "execution_count": 11,
   "id": "limiting-dakota",
   "metadata": {},
   "outputs": [
    {
     "data": {
      "text/plain": [
       "(890, 22)"
      ]
     },
     "execution_count": 11,
     "metadata": {},
     "output_type": "execute_result"
    }
   ],
   "source": [
    "monthly.shape"
   ]
  },
  {
   "cell_type": "code",
   "execution_count": 12,
   "id": "automated-translation",
   "metadata": {},
   "outputs": [
    {
     "data": {
      "text/plain": [
       "(296, 5)"
      ]
     },
     "execution_count": 12,
     "metadata": {},
     "output_type": "execute_result"
    }
   ],
   "source": [
    "quarterly.shape"
   ]
  },
  {
   "cell_type": "code",
   "execution_count": 9,
   "id": "standing-queue",
   "metadata": {},
   "outputs": [],
   "source": [
    "merged = pd.merge(monthly, quarterly, how='left', left_index=True, right_index=True)"
   ]
  },
  {
   "cell_type": "code",
   "execution_count": 10,
   "id": "corporate-chart",
   "metadata": {},
   "outputs": [
    {
     "data": {
      "text/plain": [
       "(890, 27)"
      ]
     },
     "execution_count": 10,
     "metadata": {},
     "output_type": "execute_result"
    }
   ],
   "source": [
    "merged.shape"
   ]
  },
  {
   "cell_type": "code",
   "execution_count": 13,
   "id": "owned-metro",
   "metadata": {},
   "outputs": [
    {
     "name": "stdout",
     "output_type": "stream",
     "text": [
      "<class 'pandas.core.frame.DataFrame'>\n",
      "DatetimeIndex: 890 entries, 1947-01-01 to 2021-02-01\n",
      "Data columns (total 27 columns):\n",
      " #   Column                         Non-Null Count  Dtype  \n",
      "---  ------                         --------------  -----  \n",
      " 0   avg_weeks_unemployed           878 non-null    float64\n",
      " 1   cont_claims_insur_unemploy     650 non-null    float64\n",
      " 2   full_employ_level              878 non-null    float64\n",
      " 3   part_employ_level              878 non-null    object \n",
      " 4   not_in_labor_force             878 non-null    object \n",
      " 5   gov_unemp_insur                746 non-null    float64\n",
      " 6   labor_particip_women           878 non-null    float64\n",
      " 7   labor_particip_men             878 non-null    float64\n",
      " 8   labor_particip_total           878 non-null    float64\n",
      " 9   real_estate_loans              890 non-null    float64\n",
      " 10  consumer_loans                 890 non-null    float64\n",
      " 11  commerc_indust_loans           890 non-null    float64\n",
      " 12  m1_real                        746 non-null    float64\n",
      " 13  unemp_less_five_weeks          878 non-null    float64\n",
      " 14  unemp_5_to_14_wks              878 non-null    float64\n",
      " 15  unemp_15_to_26_wks             878 non-null    float64\n",
      " 16  unemp_over_27_wks              878 non-null    float64\n",
      " 17  personal_consum_exp            746 non-null    float64\n",
      " 18  personal_save_rate             746 non-null    float64\n",
      " 19  emp_pop_ratio                  878 non-null    float64\n",
      " 20  unemploy_rate                  878 non-null    float64\n",
      " 21  insured_unemploy_rate          878 non-null    object \n",
      " 22  corp_profit_aftertax_without   296 non-null    float64\n",
      " 23  corp_profit_aftertax_with      296 non-null    float64\n",
      " 24  corp_profit_beforetax_without  296 non-null    float64\n",
      " 25  fed_debt_precent_gdp           220 non-null    float64\n",
      " 26  m1_velocity                    248 non-null    float64\n",
      "dtypes: float64(24), object(3)\n",
      "memory usage: 227.0+ KB\n"
     ]
    }
   ],
   "source": [
    "merged.info()"
   ]
  },
  {
   "cell_type": "code",
   "execution_count": 17,
   "id": "foster-advancement",
   "metadata": {},
   "outputs": [],
   "source": [
    "# merged.to_csv('../alt_data/merged_data.csv', index=False)"
   ]
  },
  {
   "cell_type": "code",
   "execution_count": null,
   "id": "compressed-adult",
   "metadata": {},
   "outputs": [],
   "source": []
  },
  {
   "cell_type": "code",
   "execution_count": 27,
   "id": "vietnamese-holder",
   "metadata": {},
   "outputs": [
    {
     "data": {
      "text/html": [
       "<div>\n",
       "<style scoped>\n",
       "    .dataframe tbody tr th:only-of-type {\n",
       "        vertical-align: middle;\n",
       "    }\n",
       "\n",
       "    .dataframe tbody tr th {\n",
       "        vertical-align: top;\n",
       "    }\n",
       "\n",
       "    .dataframe thead th {\n",
       "        text-align: right;\n",
       "    }\n",
       "</style>\n",
       "<table border=\"1\" class=\"dataframe\">\n",
       "  <thead>\n",
       "    <tr style=\"text-align: right;\">\n",
       "      <th></th>\n",
       "      <th>corp_profit_aftertax_without</th>\n",
       "      <th>corp_profit_aftertax_with</th>\n",
       "      <th>corp_profit_beforetax_without</th>\n",
       "    </tr>\n",
       "    <tr>\n",
       "      <th>DATE</th>\n",
       "      <th></th>\n",
       "      <th></th>\n",
       "      <th></th>\n",
       "    </tr>\n",
       "  </thead>\n",
       "  <tbody>\n",
       "    <tr>\n",
       "      <th>1947-01-01</th>\n",
       "      <td>21.970000</td>\n",
       "      <td>9.959000</td>\n",
       "      <td>33.466000</td>\n",
       "    </tr>\n",
       "    <tr>\n",
       "      <th>1947-02-01</th>\n",
       "      <td>21.576000</td>\n",
       "      <td>11.173667</td>\n",
       "      <td>32.866667</td>\n",
       "    </tr>\n",
       "    <tr>\n",
       "      <th>1947-03-01</th>\n",
       "      <td>21.182000</td>\n",
       "      <td>12.388333</td>\n",
       "      <td>32.267333</td>\n",
       "    </tr>\n",
       "    <tr>\n",
       "      <th>1947-04-01</th>\n",
       "      <td>20.788000</td>\n",
       "      <td>13.603000</td>\n",
       "      <td>31.668000</td>\n",
       "    </tr>\n",
       "    <tr>\n",
       "      <th>1947-05-01</th>\n",
       "      <td>20.713333</td>\n",
       "      <td>13.691333</td>\n",
       "      <td>31.541333</td>\n",
       "    </tr>\n",
       "    <tr>\n",
       "      <th>...</th>\n",
       "      <td>...</td>\n",
       "      <td>...</td>\n",
       "      <td>...</td>\n",
       "    </tr>\n",
       "    <tr>\n",
       "      <th>2020-10-01</th>\n",
       "      <td>2082.470000</td>\n",
       "      <td>1951.445000</td>\n",
       "      <td>2425.326000</td>\n",
       "    </tr>\n",
       "    <tr>\n",
       "      <th>2020-11-01</th>\n",
       "      <td>NaN</td>\n",
       "      <td>NaN</td>\n",
       "      <td>NaN</td>\n",
       "    </tr>\n",
       "    <tr>\n",
       "      <th>2020-12-01</th>\n",
       "      <td>NaN</td>\n",
       "      <td>NaN</td>\n",
       "      <td>NaN</td>\n",
       "    </tr>\n",
       "    <tr>\n",
       "      <th>2021-01-01</th>\n",
       "      <td>NaN</td>\n",
       "      <td>NaN</td>\n",
       "      <td>NaN</td>\n",
       "    </tr>\n",
       "    <tr>\n",
       "      <th>2021-02-01</th>\n",
       "      <td>NaN</td>\n",
       "      <td>NaN</td>\n",
       "      <td>NaN</td>\n",
       "    </tr>\n",
       "  </tbody>\n",
       "</table>\n",
       "<p>890 rows × 3 columns</p>\n",
       "</div>"
      ],
      "text/plain": [
       "            corp_profit_aftertax_without  corp_profit_aftertax_with  \\\n",
       "DATE                                                                  \n",
       "1947-01-01                     21.970000                   9.959000   \n",
       "1947-02-01                     21.576000                  11.173667   \n",
       "1947-03-01                     21.182000                  12.388333   \n",
       "1947-04-01                     20.788000                  13.603000   \n",
       "1947-05-01                     20.713333                  13.691333   \n",
       "...                                  ...                        ...   \n",
       "2020-10-01                   2082.470000                1951.445000   \n",
       "2020-11-01                           NaN                        NaN   \n",
       "2020-12-01                           NaN                        NaN   \n",
       "2021-01-01                           NaN                        NaN   \n",
       "2021-02-01                           NaN                        NaN   \n",
       "\n",
       "            corp_profit_beforetax_without  \n",
       "DATE                                       \n",
       "1947-01-01                      33.466000  \n",
       "1947-02-01                      32.866667  \n",
       "1947-03-01                      32.267333  \n",
       "1947-04-01                      31.668000  \n",
       "1947-05-01                      31.541333  \n",
       "...                                   ...  \n",
       "2020-10-01                    2425.326000  \n",
       "2020-11-01                            NaN  \n",
       "2020-12-01                            NaN  \n",
       "2021-01-01                            NaN  \n",
       "2021-02-01                            NaN  \n",
       "\n",
       "[890 rows x 3 columns]"
      ]
     },
     "execution_count": 27,
     "metadata": {},
     "output_type": "execute_result"
    }
   ],
   "source": [
    "merged[['corp_profit_aftertax_without','corp_profit_aftertax_with','corp_profit_beforetax_without']].interpolate(limit_direction='backward')"
   ]
  },
  {
   "cell_type": "code",
   "execution_count": null,
   "id": "final-delaware",
   "metadata": {},
   "outputs": [],
   "source": [
    "merged[['corp_profit_aftertax_without','corp_profit_aftertax_with']].interpolate(limit_direction='backward')"
   ]
  },
  {
   "cell_type": "code",
   "execution_count": null,
   "id": "inclusive-senior",
   "metadata": {},
   "outputs": [],
   "source": []
  },
  {
   "cell_type": "code",
   "execution_count": null,
   "id": "swedish-metallic",
   "metadata": {},
   "outputs": [],
   "source": []
  },
  {
   "cell_type": "code",
   "execution_count": null,
   "id": "virtual-victim",
   "metadata": {},
   "outputs": [],
   "source": []
  },
  {
   "cell_type": "code",
   "execution_count": null,
   "id": "fiscal-platform",
   "metadata": {},
   "outputs": [],
   "source": []
  },
  {
   "cell_type": "code",
   "execution_count": null,
   "id": "connected-promise",
   "metadata": {},
   "outputs": [],
   "source": []
  }
 ],
 "metadata": {
  "kernelspec": {
   "display_name": "Python 3",
   "language": "python",
   "name": "python3"
  },
  "language_info": {
   "codemirror_mode": {
    "name": "ipython",
    "version": 3
   },
   "file_extension": ".py",
   "mimetype": "text/x-python",
   "name": "python",
   "nbconvert_exporter": "python",
   "pygments_lexer": "ipython3",
   "version": "3.8.8"
  }
 },
 "nbformat": 4,
 "nbformat_minor": 5
}
