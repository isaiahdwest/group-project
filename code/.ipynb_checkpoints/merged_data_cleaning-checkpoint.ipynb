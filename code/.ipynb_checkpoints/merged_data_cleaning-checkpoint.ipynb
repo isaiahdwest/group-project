{
 "cells": [
  {
   "cell_type": "code",
   "execution_count": 1,
   "id": "helpful-invasion",
   "metadata": {},
   "outputs": [],
   "source": [
    "import numpy as np\n",
    "import pandas as pd"
   ]
  },
  {
   "cell_type": "code",
   "execution_count": 2,
   "id": "electronic-surrey",
   "metadata": {},
   "outputs": [],
   "source": [
    "monthly = pd.read_csv('../alt_data/monthly_data.csv')\n",
    "quarterly = pd.read_csv('../alt_data/quarter_data.csv')"
   ]
  },
  {
   "cell_type": "code",
   "execution_count": 5,
   "id": "lightweight-madonna",
   "metadata": {},
   "outputs": [],
   "source": [
    "monthly['DATE'] = pd.to_datetime(monthly['DATE'])"
   ]
  },
  {
   "cell_type": "code",
   "execution_count": 6,
   "id": "stuck-gasoline",
   "metadata": {},
   "outputs": [],
   "source": [
    "quarterly['DATE'] = pd.to_datetime(quarterly['DATE'])"
   ]
  },
  {
   "cell_type": "code",
   "execution_count": 7,
   "id": "nuclear-float",
   "metadata": {},
   "outputs": [],
   "source": [
    "monthly.set_index('DATE', inplace=True)"
   ]
  },
  {
   "cell_type": "code",
   "execution_count": 8,
   "id": "mental-occasion",
   "metadata": {},
   "outputs": [],
   "source": [
    "quarterly.set_index('DATE', inplace=True)"
   ]
  },
  {
   "cell_type": "code",
   "execution_count": 11,
   "id": "standard-homeless",
   "metadata": {},
   "outputs": [
    {
     "data": {
      "text/plain": [
       "(890, 22)"
      ]
     },
     "execution_count": 11,
     "metadata": {},
     "output_type": "execute_result"
    }
   ],
   "source": [
    "monthly.shape"
   ]
  },
  {
   "cell_type": "code",
   "execution_count": 12,
   "id": "brief-sector",
   "metadata": {},
   "outputs": [
    {
     "data": {
      "text/plain": [
       "(296, 5)"
      ]
     },
     "execution_count": 12,
     "metadata": {},
     "output_type": "execute_result"
    }
   ],
   "source": [
    "quarterly.shape"
   ]
  },
  {
   "cell_type": "code",
   "execution_count": 9,
   "id": "bigger-mambo",
   "metadata": {},
   "outputs": [],
   "source": [
    "merged = pd.merge(monthly, quarterly, how='left', left_index=True, right_index=True)"
   ]
  },
  {
   "cell_type": "code",
   "execution_count": 10,
   "id": "committed-danish",
   "metadata": {},
   "outputs": [
    {
     "data": {
      "text/plain": [
       "(890, 27)"
      ]
     },
     "execution_count": 10,
     "metadata": {},
     "output_type": "execute_result"
    }
   ],
   "source": [
    "merged.shape"
   ]
  },
  {
   "cell_type": "code",
   "execution_count": 13,
   "id": "dutch-southwest",
   "metadata": {},
   "outputs": [
    {
     "name": "stdout",
     "output_type": "stream",
     "text": [
      "<class 'pandas.core.frame.DataFrame'>\n",
      "DatetimeIndex: 890 entries, 1947-01-01 to 2021-02-01\n",
      "Data columns (total 27 columns):\n",
      " #   Column                         Non-Null Count  Dtype  \n",
      "---  ------                         --------------  -----  \n",
      " 0   avg_weeks_unemployed           878 non-null    float64\n",
      " 1   cont_claims_insur_unemploy     650 non-null    float64\n",
      " 2   full_employ_level              878 non-null    float64\n",
      " 3   part_employ_level              878 non-null    object \n",
      " 4   not_in_labor_force             878 non-null    object \n",
      " 5   gov_unemp_insur                746 non-null    float64\n",
      " 6   labor_particip_women           878 non-null    float64\n",
      " 7   labor_particip_men             878 non-null    float64\n",
      " 8   labor_particip_total           878 non-null    float64\n",
      " 9   real_estate_loans              890 non-null    float64\n",
      " 10  consumer_loans                 890 non-null    float64\n",
      " 11  commerc_indust_loans           890 non-null    float64\n",
      " 12  m1_real                        746 non-null    float64\n",
      " 13  unemp_less_five_weeks          878 non-null    float64\n",
      " 14  unemp_5_to_14_wks              878 non-null    float64\n",
      " 15  unemp_15_to_26_wks             878 non-null    float64\n",
      " 16  unemp_over_27_wks              878 non-null    float64\n",
      " 17  personal_consum_exp            746 non-null    float64\n",
      " 18  personal_save_rate             746 non-null    float64\n",
      " 19  emp_pop_ratio                  878 non-null    float64\n",
      " 20  unemploy_rate                  878 non-null    float64\n",
      " 21  insured_unemploy_rate          878 non-null    object \n",
      " 22  corp_profit_aftertax_without   296 non-null    float64\n",
      " 23  corp_profit_aftertax_with      296 non-null    float64\n",
      " 24  corp_profit_beforetax_without  296 non-null    float64\n",
      " 25  fed_debt_precent_gdp           220 non-null    float64\n",
      " 26  m1_velocity                    248 non-null    float64\n",
      "dtypes: float64(24), object(3)\n",
      "memory usage: 227.0+ KB\n"
     ]
    }
   ],
   "source": [
    "merged.info()"
   ]
  },
  {
   "cell_type": "code",
   "execution_count": 17,
   "id": "signed-princeton",
   "metadata": {},
   "outputs": [],
   "source": [
    "merged.to_csv('../alt_data/merged_data.csv', index=False)"
   ]
  },
  {
   "cell_type": "code",
   "execution_count": null,
   "id": "scheduled-prize",
   "metadata": {},
   "outputs": [],
   "source": []
  },
  {
   "cell_type": "code",
   "execution_count": null,
   "id": "enabling-spain",
   "metadata": {},
   "outputs": [],
   "source": []
  },
  {
   "cell_type": "code",
   "execution_count": null,
   "id": "conventional-ottawa",
   "metadata": {},
   "outputs": [],
   "source": []
  },
  {
   "cell_type": "code",
   "execution_count": null,
   "id": "eastern-sheriff",
   "metadata": {},
   "outputs": [],
   "source": []
  },
  {
   "cell_type": "code",
   "execution_count": null,
   "id": "interstate-parliament",
   "metadata": {},
   "outputs": [],
   "source": []
  },
  {
   "cell_type": "code",
   "execution_count": null,
   "id": "advanced-pricing",
   "metadata": {},
   "outputs": [],
   "source": []
  },
  {
   "cell_type": "code",
   "execution_count": null,
   "id": "consolidated-kenya",
   "metadata": {},
   "outputs": [],
   "source": []
  },
  {
   "cell_type": "code",
   "execution_count": null,
   "id": "united-wildlife",
   "metadata": {},
   "outputs": [],
   "source": []
  }
 ],
 "metadata": {
  "kernelspec": {
   "display_name": "Python 3",
   "language": "python",
   "name": "python3"
  },
  "language_info": {
   "codemirror_mode": {
    "name": "ipython",
    "version": 3
   },
   "file_extension": ".py",
   "mimetype": "text/x-python",
   "name": "python",
   "nbconvert_exporter": "python",
   "pygments_lexer": "ipython3",
   "version": "3.8.8"
  }
 },
 "nbformat": 4,
 "nbformat_minor": 5
}
