{
 "cells": [
  {
   "cell_type": "code",
   "execution_count": 1,
   "id": "overall-format",
   "metadata": {},
   "outputs": [],
   "source": [
    "import numpy as np\n",
    "import pandas as pd\n",
    "import os"
   ]
  },
  {
   "cell_type": "code",
   "execution_count": 2,
   "id": "constant-blade",
   "metadata": {},
   "outputs": [
    {
     "data": {
      "text/plain": [
       "['avg_weeks_unemp.csv',\n",
       " 'cont_claim_insur_unemp.csv',\n",
       " 'employ_level.csv',\n",
       " 'gov_unemp_insur.csv',\n",
       " 'labor_force_partic_rate.csv',\n",
       " 'loans.csv',\n",
       " 'm1_real.csv',\n",
       " 'num_unemp_timeframe.csv',\n",
       " 'personal_consump_exp.csv',\n",
       " 'personal_save_rate.csv',\n",
       " 'unemp_rate_emp_pop_ratio.csv']"
      ]
     },
     "execution_count": 2,
     "metadata": {},
     "output_type": "execute_result"
    }
   ],
   "source": [
    "monthly_list = os.listdir('../alt_data/monthly_data/')\n",
    "monthly_list"
   ]
  },
  {
   "cell_type": "code",
   "execution_count": 3,
   "id": "artistic-finance",
   "metadata": {},
   "outputs": [],
   "source": [
    "list_of_dfs=[]\n",
    "\n",
    "for csv in monthly_list:\n",
    "    list_of_dfs.append(pd.read_csv(f'../alt_data/monthly_data/{csv}'))\n"
   ]
  },
  {
   "cell_type": "code",
   "execution_count": 4,
   "id": "extreme-litigation",
   "metadata": {},
   "outputs": [
    {
     "data": {
      "text/plain": [
       "878"
      ]
     },
     "execution_count": 4,
     "metadata": {},
     "output_type": "execute_result"
    }
   ],
   "source": [
    "monthly = list_of_dfs[0].merge(list_of_dfs[1], how='left', on='DATE')\n",
    "len(monthly)"
   ]
  },
  {
   "cell_type": "code",
   "execution_count": 5,
   "id": "assured-nutrition",
   "metadata": {},
   "outputs": [],
   "source": [
    "for i in range(2, len(list_of_dfs)):\n",
    "    if len(monthly) >= len(list_of_dfs[i]):\n",
    "        monthly = monthly.merge(list_of_dfs[i], how='left', on='DATE')\n",
    "    else:\n",
    "        monthly = monthly.merge(list_of_dfs[i], how='right', on='DATE')\n",
    "        "
   ]
  },
  {
   "cell_type": "code",
   "execution_count": 6,
   "id": "forward-workplace",
   "metadata": {},
   "outputs": [],
   "source": [
    "monthly.rename(columns={\n",
    "    'UEMPMEAN':'avg_weeks_unemployed',\n",
    "    'CCSA':'cont_claims_insur_unemploy',\n",
    "    'CE16OV':'full_employ_level',\n",
    "    'LNS12032194':'part_employ_level',\n",
    "    'LNS15000000':'not_in_labor_force',\n",
    "    'W825RC1':'gov_unemp_insur',\n",
    "    'LNS11300002':'labor_particip_women',\n",
    "    'LNS11300001':'labor_particip_men',\n",
    "    'CIVPART':'labor_particip_total',\n",
    "    'REALLN':'real_estate_loans',\n",
    "    'CONSUMER':'consumer_loans',\n",
    "    'BUSLOANS':'commerc_indust_loans',\n",
    "    'M1REAL':'m1_real',\n",
    "    'UEMPLT5':'unemp_less_five_weeks',\n",
    "    'UEMP5TO14':'unemp_5_to_14_wks',\n",
    "    'UEMP15T26':'unemp_15_to_26_wks',\n",
    "    'UEMP27OV':'unemp_over_27_wks',\n",
    "    'PCE':'personal_consum_exp',\n",
    "    'PSAVERT':'personal_save_rate',\n",
    "    'EMRATIO':'emp_pop_ratio',\n",
    "    'UNRATE':'unemploy_rate',\n",
    "    'IURSA':'insured_unemploy_rate'\n",
    "}, inplace=True)"
   ]
  },
  {
   "cell_type": "code",
   "execution_count": 7,
   "id": "conceptual-papua",
   "metadata": {},
   "outputs": [],
   "source": [
    "monthly['not_in_labor_force'].replace('.', np.nan, inplace=True)"
   ]
  },
  {
   "cell_type": "code",
   "execution_count": 11,
   "id": "aggressive-charge",
   "metadata": {},
   "outputs": [],
   "source": [
    "monthly.dropna(inplace=True)"
   ]
  },
  {
   "cell_type": "code",
   "execution_count": 17,
   "id": "demonstrated-pointer",
   "metadata": {},
   "outputs": [],
   "source": [
    "monthly['DATE'] = pd.to_datetime(monthly['DATE']).dt.to_period('M')"
   ]
  },
  {
   "cell_type": "code",
   "execution_count": 18,
   "id": "close-discretion",
   "metadata": {},
   "outputs": [],
   "source": [
    "monthly.set_index('DATE', inplace=True)"
   ]
  },
  {
   "cell_type": "code",
   "execution_count": 24,
   "id": "julian-bunch",
   "metadata": {},
   "outputs": [],
   "source": [
    "monthly['cont_claims_insur_unemploy'] = monthly['cont_claims_insur_unemploy'].astype(float)"
   ]
  },
  {
   "cell_type": "code",
   "execution_count": 26,
   "id": "combined-ecology",
   "metadata": {},
   "outputs": [],
   "source": [
    "monthly['part_employ_level'] = monthly['part_employ_level'].astype(float)"
   ]
  },
  {
   "cell_type": "code",
   "execution_count": 27,
   "id": "knowing-surgery",
   "metadata": {},
   "outputs": [],
   "source": [
    "monthly['not_in_labor_force'] = monthly['not_in_labor_force'].astype(float)"
   ]
  },
  {
   "cell_type": "code",
   "execution_count": 28,
   "id": "answering-mercy",
   "metadata": {},
   "outputs": [],
   "source": [
    "monthly['emp_pop_ratio'] = monthly['emp_pop_ratio'].astype(float)"
   ]
  },
  {
   "cell_type": "code",
   "execution_count": 29,
   "id": "adaptive-constitution",
   "metadata": {},
   "outputs": [],
   "source": [
    "monthly['unemploy_rate'] = monthly['unemploy_rate'].astype(float)"
   ]
  },
  {
   "cell_type": "code",
   "execution_count": 30,
   "id": "bright-infrastructure",
   "metadata": {},
   "outputs": [],
   "source": [
    "monthly['insured_unemploy_rate'] = monthly['insured_unemploy_rate'].astype(float)"
   ]
  },
  {
   "cell_type": "code",
   "execution_count": 31,
   "id": "rental-democracy",
   "metadata": {},
   "outputs": [
    {
     "name": "stdout",
     "output_type": "stream",
     "text": [
      "<class 'pandas.core.frame.DataFrame'>\n",
      "PeriodIndex: 554 entries, 1975-01 to 2021-02\n",
      "Freq: M\n",
      "Data columns (total 22 columns):\n",
      " #   Column                      Non-Null Count  Dtype  \n",
      "---  ------                      --------------  -----  \n",
      " 0   avg_weeks_unemployed        554 non-null    float64\n",
      " 1   cont_claims_insur_unemploy  554 non-null    float64\n",
      " 2   full_employ_level           554 non-null    float64\n",
      " 3   part_employ_level           554 non-null    float64\n",
      " 4   not_in_labor_force          554 non-null    float64\n",
      " 5   gov_unemp_insur             554 non-null    float64\n",
      " 6   labor_particip_women        554 non-null    float64\n",
      " 7   labor_particip_men          554 non-null    float64\n",
      " 8   labor_particip_total        554 non-null    float64\n",
      " 9   real_estate_loans           554 non-null    float64\n",
      " 10  consumer_loans              554 non-null    float64\n",
      " 11  commerc_indust_loans        554 non-null    float64\n",
      " 12  m1_real                     554 non-null    float64\n",
      " 13  unemp_less_five_weeks       554 non-null    float64\n",
      " 14  unemp_5_to_14_wks           554 non-null    float64\n",
      " 15  unemp_15_to_26_wks          554 non-null    float64\n",
      " 16  unemp_over_27_wks           554 non-null    float64\n",
      " 17  personal_consum_exp         554 non-null    float64\n",
      " 18  personal_save_rate          554 non-null    float64\n",
      " 19  emp_pop_ratio               554 non-null    float64\n",
      " 20  unemploy_rate               554 non-null    float64\n",
      " 21  insured_unemploy_rate       554 non-null    float64\n",
      "dtypes: float64(22)\n",
      "memory usage: 99.5 KB\n"
     ]
    }
   ],
   "source": [
    "monthly.info()"
   ]
  },
  {
   "cell_type": "code",
   "execution_count": 32,
   "id": "cellular-leeds",
   "metadata": {},
   "outputs": [],
   "source": [
    "# monthly.to_csv('../alt_data/monthly_data_2.csv', index=False)"
   ]
  },
  {
   "cell_type": "code",
   "execution_count": null,
   "id": "immune-complex",
   "metadata": {},
   "outputs": [],
   "source": []
  },
  {
   "cell_type": "code",
   "execution_count": null,
   "id": "blond-engineering",
   "metadata": {},
   "outputs": [],
   "source": []
  },
  {
   "cell_type": "code",
   "execution_count": null,
   "id": "still-terrorism",
   "metadata": {},
   "outputs": [],
   "source": []
  },
  {
   "cell_type": "code",
   "execution_count": null,
   "id": "collaborative-fruit",
   "metadata": {},
   "outputs": [],
   "source": []
  }
 ],
 "metadata": {
  "kernelspec": {
   "display_name": "Python 3",
   "language": "python",
   "name": "python3"
  },
  "language_info": {
   "codemirror_mode": {
    "name": "ipython",
    "version": 3
   },
   "file_extension": ".py",
   "mimetype": "text/x-python",
   "name": "python",
   "nbconvert_exporter": "python",
   "pygments_lexer": "ipython3",
   "version": "3.8.8"
  }
 },
 "nbformat": 4,
 "nbformat_minor": 5
}
