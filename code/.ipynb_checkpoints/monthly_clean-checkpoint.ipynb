{
 "cells": [
  {
   "cell_type": "code",
   "execution_count": 1,
   "id": "modified-patrol",
   "metadata": {},
   "outputs": [],
   "source": [
    "import numpy as np\n",
    "import pandas as pd\n",
    "import os"
   ]
  },
  {
   "cell_type": "code",
   "execution_count": 2,
   "id": "otherwise-drinking",
   "metadata": {},
   "outputs": [
    {
     "data": {
      "text/plain": [
       "['avg_weeks_unemp.csv',\n",
       " 'cont_claim_insur_unemp.csv',\n",
       " 'employ_level.csv',\n",
       " 'gov_unemp_insur.csv',\n",
       " 'labor_force_partic_rate.csv',\n",
       " 'loans.csv',\n",
       " 'm1_real.csv',\n",
       " 'num_unemp_timeframe.csv',\n",
       " 'personal_consump_exp.csv',\n",
       " 'personal_save_rate.csv',\n",
       " 'unemp_rate_emp_pop_ratio.csv']"
      ]
     },
     "execution_count": 2,
     "metadata": {},
     "output_type": "execute_result"
    }
   ],
   "source": [
    "monthly_list = os.listdir('../alt_data/monthly_data/')\n",
    "monthly_list"
   ]
  },
  {
   "cell_type": "code",
   "execution_count": 3,
   "id": "weekly-motorcycle",
   "metadata": {},
   "outputs": [
    {
     "data": {
      "text/plain": [
       "[           DATE  UEMPMEAN\n",
       " 0    1948-01-01       8.9\n",
       " 1    1948-02-01       8.4\n",
       " 2    1948-03-01       8.7\n",
       " 3    1948-04-01       8.5\n",
       " 4    1948-05-01       9.1\n",
       " ..          ...       ...\n",
       " 873  2020-10-01      21.4\n",
       " 874  2020-11-01      23.0\n",
       " 875  2020-12-01      23.4\n",
       " 876  2021-01-01      26.0\n",
       " 877  2021-02-01      27.6\n",
       " \n",
       " [878 rows x 2 columns],\n",
       "            DATE                  CCSA\n",
       " 0    1967-01-01  1118750.000000000000\n",
       " 1    1967-02-01  1162500.000000000000\n",
       " 2    1967-03-01  1243250.000000000000\n",
       " 3    1967-04-01  1281000.000000000000\n",
       " 4    1967-05-01  1277500.000000000000\n",
       " ..          ...                   ...\n",
       " 646  2020-11-01  5941750.000000000000\n",
       " 647  2020-12-01  5274750.000000000000\n",
       " 648  2021-01-01  4836800.000000000000\n",
       " 649  2021-02-01  4354500.000000000000\n",
       " 650  2021-03-01                     .\n",
       " \n",
       " [651 rows x 2 columns],\n",
       "            DATE  CE16OV LNS12032194 LNS15000000\n",
       " 0    1948-01-01   58061           .           .\n",
       " 1    1948-02-01   58196           .           .\n",
       " 2    1948-03-01   57671           .           .\n",
       " 3    1948-04-01   58291           .           .\n",
       " 4    1948-05-01   57854           .           .\n",
       " ..          ...     ...         ...         ...\n",
       " 873  2020-10-01  149669        6668      100207\n",
       " 874  2020-11-01  149809        6641      100548\n",
       " 875  2020-12-01  149830        6170      100663\n",
       " 876  2021-01-01  150031        5954      100690\n",
       " 877  2021-02-01  150239        6088      100708\n",
       " \n",
       " [878 rows x 4 columns],\n",
       "            DATE  W825RC1\n",
       " 0    1959-01-01      3.4\n",
       " 1    1959-02-01      3.1\n",
       " 2    1959-03-01      2.9\n",
       " 3    1959-04-01      2.8\n",
       " 4    1959-05-01      2.6\n",
       " ..          ...      ...\n",
       " 741  2020-10-01    304.3\n",
       " 742  2020-11-01    280.8\n",
       " 743  2020-12-01    304.3\n",
       " 744  2021-01-01    555.5\n",
       " 745  2021-02-01    537.0\n",
       " \n",
       " [746 rows x 2 columns],\n",
       "            DATE  LNS11300002  LNS11300001  CIVPART\n",
       " 0    1948-01-01         32.0         86.7     58.6\n",
       " 1    1948-02-01         32.4         87.0     58.9\n",
       " 2    1948-03-01         32.1         86.3     58.5\n",
       " 3    1948-04-01         33.0         86.6     59.0\n",
       " 4    1948-05-01         32.0         86.1     58.3\n",
       " ..          ...          ...          ...      ...\n",
       " 873  2020-10-01         55.8         67.7     61.6\n",
       " 874  2020-11-01         55.9         67.4     61.5\n",
       " 875  2020-12-01         55.9         67.4     61.5\n",
       " 876  2021-01-01         55.7         67.5     61.4\n",
       " 877  2021-02-01         55.8         67.4     61.4\n",
       " \n",
       " [878 rows x 4 columns],\n",
       "            DATE     REALLN   CONSUMER   BUSLOANS\n",
       " 0    1947-01-01     6.7960     4.1612    11.2894\n",
       " 1    1947-02-01     6.9551     4.2966    11.5179\n",
       " 2    1947-03-01     7.1249     4.4306    11.7667\n",
       " 3    1947-04-01     7.2966     4.5687    12.0269\n",
       " 4    1947-05-01     7.4699     4.7087    12.2788\n",
       " ..          ...        ...        ...        ...\n",
       " 885  2020-10-01  4680.5019  1518.7909  2696.5895\n",
       " 886  2020-11-01  4667.5872  1520.5008  2649.0571\n",
       " 887  2020-12-01  4659.1834  1522.4891  2617.1988\n",
       " 888  2021-01-01  4676.0663  1521.5046  2582.0524\n",
       " 889  2021-02-01  4653.4402  1524.9569  2602.4494\n",
       " \n",
       " [890 rows x 4 columns],\n",
       "            DATE  M1REAL\n",
       " 0    1959-01-01   478.8\n",
       " 1    1959-02-01   480.7\n",
       " 2    1959-03-01   482.2\n",
       " 3    1959-04-01   482.1\n",
       " 4    1959-05-01   484.5\n",
       " ..          ...     ...\n",
       " 741  2020-10-01  2143.7\n",
       " 742  2020-11-01  2318.7\n",
       " 743  2020-12-01  2528.7\n",
       " 744  2021-01-01  2574.4\n",
       " 745  2021-02-01  6996.5\n",
       " \n",
       " [746 rows x 2 columns],\n",
       "            DATE  UEMPLT5  UEMP5TO14  UEMP15T26  UEMP27OV\n",
       " 0    1948-01-01   1188.0        507        183       128\n",
       " 1    1948-02-01   1377.0        677        162       121\n",
       " 2    1948-03-01   1279.0        830        182       110\n",
       " 3    1948-04-01   1461.0        694        215       109\n",
       " 4    1948-05-01   1146.0        671        220       109\n",
       " ..          ...      ...        ...        ...       ...\n",
       " 873  2020-10-01   2494.0       2341       2651      3534\n",
       " 874  2020-11-01   2455.0       2404       1875      3929\n",
       " 875  2020-12-01   2904.0       2222       1572      3956\n",
       " 876  2021-01-01   2278.0       2528       1346      4023\n",
       " 877  2021-02-01   2185.0       2254       1407      4148\n",
       " \n",
       " [878 rows x 5 columns],\n",
       "            DATE      PCE\n",
       " 0    1959-01-01    306.1\n",
       " 1    1959-02-01    309.6\n",
       " 2    1959-03-01    312.7\n",
       " 3    1959-04-01    312.2\n",
       " 4    1959-05-01    316.1\n",
       " ..          ...      ...\n",
       " 741  2020-10-01  14627.1\n",
       " 742  2020-11-01  14532.8\n",
       " 743  2020-12-01  14451.1\n",
       " 744  2021-01-01  14939.1\n",
       " 745  2021-02-01  14790.1\n",
       " \n",
       " [746 rows x 2 columns],\n",
       "            DATE  PSAVERT\n",
       " 0    1959-01-01     11.3\n",
       " 1    1959-02-01     10.6\n",
       " 2    1959-03-01     10.3\n",
       " 3    1959-04-01     11.2\n",
       " 4    1959-05-01     10.6\n",
       " ..          ...      ...\n",
       " 741  2020-10-01     13.1\n",
       " 742  2020-11-01     12.5\n",
       " 743  2020-12-01     13.5\n",
       " 744  2021-01-01     19.8\n",
       " 745  2021-02-01     13.6\n",
       " \n",
       " [746 rows x 2 columns],\n",
       "            DATE EMRATIO UNRATE               IURSA\n",
       " 0    1948-01-01    56.6    3.4                   .\n",
       " 1    1948-02-01    56.7    3.8                   .\n",
       " 2    1948-03-01    56.1    4.0                   .\n",
       " 3    1948-04-01    56.7    3.9                   .\n",
       " 4    1948-05-01    56.2    3.5                   .\n",
       " ..          ...     ...    ...                 ...\n",
       " 874  2020-11-01    57.4    6.7  4.0500000000000000\n",
       " 875  2020-12-01    57.4    6.7  3.6000000000000000\n",
       " 876  2021-01-01    57.5    6.3  3.4000000000000000\n",
       " 877  2021-02-01    57.6    6.2  3.0750000000000000\n",
       " 878  2021-03-01       .      .                   .\n",
       " \n",
       " [879 rows x 4 columns]]"
      ]
     },
     "execution_count": 3,
     "metadata": {},
     "output_type": "execute_result"
    }
   ],
   "source": [
    "list_of_dfs=[]\n",
    "\n",
    "for csv in monthly_list:\n",
    "    list_of_dfs.append(pd.read_csv(f'../alt_data/monthly_data/{csv}'))\n",
    "    \n",
    "list_of_dfs"
   ]
  },
  {
   "cell_type": "code",
   "execution_count": 4,
   "id": "immediate-laptop",
   "metadata": {},
   "outputs": [
    {
     "data": {
      "text/plain": [
       "878"
      ]
     },
     "execution_count": 4,
     "metadata": {},
     "output_type": "execute_result"
    }
   ],
   "source": [
    "monthly = list_of_dfs[0].merge(list_of_dfs[1], how='left', on='DATE')\n",
    "len(monthly)"
   ]
  },
  {
   "cell_type": "code",
   "execution_count": 5,
   "id": "inner-halloween",
   "metadata": {},
   "outputs": [
    {
     "data": {
      "text/plain": [
       "(890, 23)"
      ]
     },
     "execution_count": 5,
     "metadata": {},
     "output_type": "execute_result"
    }
   ],
   "source": [
    "for i in range(2, len(list_of_dfs)):\n",
    "    if len(monthly) >= len(list_of_dfs[i]):\n",
    "        monthly = monthly.merge(list_of_dfs[i], how='left', on='DATE')\n",
    "    else:\n",
    "        monthly = monthly.merge(list_of_dfs[i], how='right', on='DATE')\n",
    "        \n",
    "monthly.shape"
   ]
  },
  {
   "cell_type": "code",
   "execution_count": 6,
   "id": "dried-sapphire",
   "metadata": {},
   "outputs": [
    {
     "name": "stdout",
     "output_type": "stream",
     "text": [
      "<class 'pandas.core.frame.DataFrame'>\n",
      "Int64Index: 890 entries, 0 to 889\n",
      "Data columns (total 23 columns):\n",
      " #   Column       Non-Null Count  Dtype  \n",
      "---  ------       --------------  -----  \n",
      " 0   DATE         890 non-null    object \n",
      " 1   UEMPMEAN     878 non-null    float64\n",
      " 2   CCSA         650 non-null    object \n",
      " 3   CE16OV       878 non-null    float64\n",
      " 4   LNS12032194  878 non-null    object \n",
      " 5   LNS15000000  878 non-null    object \n",
      " 6   W825RC1      746 non-null    float64\n",
      " 7   LNS11300002  878 non-null    float64\n",
      " 8   LNS11300001  878 non-null    float64\n",
      " 9   CIVPART      878 non-null    float64\n",
      " 10  REALLN       890 non-null    float64\n",
      " 11  CONSUMER     890 non-null    float64\n",
      " 12  BUSLOANS     890 non-null    float64\n",
      " 13  M1REAL       746 non-null    float64\n",
      " 14  UEMPLT5      878 non-null    float64\n",
      " 15  UEMP5TO14    878 non-null    float64\n",
      " 16  UEMP15T26    878 non-null    float64\n",
      " 17  UEMP27OV     878 non-null    float64\n",
      " 18  PCE          746 non-null    float64\n",
      " 19  PSAVERT      746 non-null    float64\n",
      " 20  EMRATIO      878 non-null    object \n",
      " 21  UNRATE       878 non-null    object \n",
      " 22  IURSA        878 non-null    object \n",
      "dtypes: float64(16), object(7)\n",
      "memory usage: 166.9+ KB\n"
     ]
    }
   ],
   "source": [
    "monthly.info()"
   ]
  },
  {
   "cell_type": "code",
   "execution_count": 12,
   "id": "alone-intent",
   "metadata": {},
   "outputs": [
    {
     "data": {
      "text/plain": [
       "Index(['DATE', 'UEMPMEAN', 'CCSA', 'CE16OV', 'LNS12032194', 'LNS15000000',\n",
       "       'W825RC1', 'LNS11300002', 'LNS11300001', 'CIVPART', 'REALLN',\n",
       "       'CONSUMER', 'BUSLOANS', 'M1REAL', 'UEMPLT5', 'UEMP5TO14', 'UEMP15T26',\n",
       "       'UEMP27OV', 'PCE', 'PSAVERT', 'EMRATIO', 'UNRATE', 'IURSA'],\n",
       "      dtype='object')"
      ]
     },
     "execution_count": 12,
     "metadata": {},
     "output_type": "execute_result"
    }
   ],
   "source": [
    "monthly.columns"
   ]
  },
  {
   "cell_type": "code",
   "execution_count": 16,
   "id": "involved-cambridge",
   "metadata": {},
   "outputs": [],
   "source": [
    "monthly.rename(columns={\n",
    "    'UEMPMEAN':'avg_weeks_unemployed',\n",
    "    'CCSA':'cont_claims_insur_unemploy',\n",
    "    'CE16OV':'full_employ_level',\n",
    "    'LNS12032194':'part_employ_level',\n",
    "    'LNS15000000':'not_in_labor_force',\n",
    "    'W825RC1':'gov_unemp_insur',\n",
    "    'LNS11300002':'labor_particip_women',\n",
    "    'LNS11300001':'labor_particip_men',\n",
    "    'CIVPART':'labor_particip_total',\n",
    "    'REALLN':'real_estate_loans',\n",
    "    'CONSUMER':'consumer_loans',\n",
    "    'BUSLOANS':'commerc_indust_loans',\n",
    "    'M1REAL':'m1_real',\n",
    "    'UEMPLT5':'unemp_less_five_weeks',\n",
    "    'UEMP5TO14':'unemp_5_to_14_wks',\n",
    "    'UEMP15T26':'unemp_15_to_26_wks',\n",
    "    'UEMP27OV':'unemp_over_27_wks',\n",
    "    'PCE':'personal_consum_exp',\n",
    "    'PSAVERT':'personal_save_rate',\n",
    "    'EMRATIO':'emp_pop_ratio',\n",
    "    'UNRATE':'unemploy_rate',\n",
    "    'IURSA':'insured_unemploy_rate'\n",
    "}, inplace=True)"
   ]
  },
  {
   "cell_type": "code",
   "execution_count": 17,
   "id": "guilty-italy",
   "metadata": {},
   "outputs": [],
   "source": [
    "monthly.to_csv('../alt_data/monthly_data.csv', index=False)"
   ]
  },
  {
   "cell_type": "code",
   "execution_count": null,
   "id": "municipal-australia",
   "metadata": {},
   "outputs": [],
   "source": []
  }
 ],
 "metadata": {
  "kernelspec": {
   "display_name": "Python 3",
   "language": "python",
   "name": "python3"
  },
  "language_info": {
   "codemirror_mode": {
    "name": "ipython",
    "version": 3
   },
   "file_extension": ".py",
   "mimetype": "text/x-python",
   "name": "python",
   "nbconvert_exporter": "python",
   "pygments_lexer": "ipython3",
   "version": "3.8.8"
  }
 },
 "nbformat": 4,
 "nbformat_minor": 5
}
