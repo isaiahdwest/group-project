{
 "cells": [
  {
   "cell_type": "code",
   "execution_count": 1,
   "id": "ancient-excellence",
   "metadata": {},
   "outputs": [],
   "source": [
    "import numpy as np\n",
    "import pandas as pd\n",
    "import matplotlib.pyplot as plt"
   ]
  },
  {
   "cell_type": "code",
   "execution_count": 2,
   "id": "australian-dakota",
   "metadata": {},
   "outputs": [],
   "source": [
    "monthly = pd.read_csv('../../alt_data/monthly_data.csv')\n",
    "quarterly = pd.read_csv('../../alt_data/quarter_data.csv')"
   ]
  },
  {
   "cell_type": "code",
   "execution_count": 3,
   "id": "patent-software",
   "metadata": {},
   "outputs": [],
   "source": [
    "monthly['DATE'] = pd.to_datetime(monthly['DATE']).dt.to_period('M')\n",
    "quarterly['DATE'] = pd.to_datetime(quarterly['DATE']).dt.to_period('M')"
   ]
  },
  {
   "cell_type": "code",
   "execution_count": 4,
   "id": "pressing-cleaner",
   "metadata": {},
   "outputs": [],
   "source": [
    "monthly.set_index('DATE', inplace=True)\n",
    "quarterly.set_index('DATE', inplace=True)"
   ]
  },
  {
   "cell_type": "code",
   "execution_count": 5,
   "id": "abroad-alpha",
   "metadata": {},
   "outputs": [
    {
     "data": {
      "text/plain": [
       "(554, 22)"
      ]
     },
     "execution_count": 5,
     "metadata": {},
     "output_type": "execute_result"
    }
   ],
   "source": [
    "monthly.shape"
   ]
  },
  {
   "cell_type": "code",
   "execution_count": 6,
   "id": "rotary-occurrence",
   "metadata": {},
   "outputs": [
    {
     "data": {
      "text/plain": [
       "(220, 5)"
      ]
     },
     "execution_count": 6,
     "metadata": {},
     "output_type": "execute_result"
    }
   ],
   "source": [
    "quarterly.shape"
   ]
  },
  {
   "cell_type": "code",
   "execution_count": 7,
   "id": "directed-finder",
   "metadata": {},
   "outputs": [],
   "source": [
    "merged = pd.merge(monthly, quarterly, how='left', left_index=True, right_index=True)"
   ]
  },
  {
   "cell_type": "code",
   "execution_count": 8,
   "id": "peaceful-mapping",
   "metadata": {},
   "outputs": [
    {
     "data": {
      "text/plain": [
       "(554, 27)"
      ]
     },
     "execution_count": 8,
     "metadata": {},
     "output_type": "execute_result"
    }
   ],
   "source": [
    "merged.shape"
   ]
  },
  {
   "cell_type": "code",
   "execution_count": 9,
   "id": "graphic-district",
   "metadata": {},
   "outputs": [
    {
     "name": "stdout",
     "output_type": "stream",
     "text": [
      "<class 'pandas.core.frame.DataFrame'>\n",
      "PeriodIndex: 554 entries, 1975-01 to 2021-02\n",
      "Freq: M\n",
      "Data columns (total 27 columns):\n",
      " #   Column                         Non-Null Count  Dtype  \n",
      "---  ------                         --------------  -----  \n",
      " 0   avg_weeks_unemployed           554 non-null    float64\n",
      " 1   cont_claims_insur_unemploy     554 non-null    float64\n",
      " 2   full_employ_level              554 non-null    float64\n",
      " 3   part_employ_level              554 non-null    float64\n",
      " 4   not_in_labor_force             554 non-null    float64\n",
      " 5   gov_unemp_insur                554 non-null    float64\n",
      " 6   labor_particip_women           554 non-null    float64\n",
      " 7   labor_particip_men             554 non-null    float64\n",
      " 8   labor_particip_total           554 non-null    float64\n",
      " 9   real_estate_loans              554 non-null    float64\n",
      " 10  consumer_loans                 554 non-null    float64\n",
      " 11  commerc_indust_loans           554 non-null    float64\n",
      " 12  m1_real                        554 non-null    float64\n",
      " 13  unemp_less_five_weeks          554 non-null    float64\n",
      " 14  unemp_5_to_14_wks              554 non-null    float64\n",
      " 15  unemp_15_to_26_wks             554 non-null    float64\n",
      " 16  unemp_over_27_wks              554 non-null    float64\n",
      " 17  personal_consum_exp            554 non-null    float64\n",
      " 18  personal_save_rate             554 non-null    float64\n",
      " 19  emp_pop_ratio                  554 non-null    float64\n",
      " 20  unemploy_rate                  554 non-null    float64\n",
      " 21  insured_unemploy_rate          554 non-null    float64\n",
      " 22  corp_profit_aftertax_without   184 non-null    float64\n",
      " 23  corp_profit_aftertax_with      184 non-null    float64\n",
      " 24  corp_profit_beforetax_without  184 non-null    float64\n",
      " 25  fed_debt_precent_gdp           184 non-null    float64\n",
      " 26  m1_velocity                    184 non-null    float64\n",
      "dtypes: float64(27)\n",
      "memory usage: 137.4 KB\n"
     ]
    }
   ],
   "source": [
    "merged.info()"
   ]
  },
  {
   "cell_type": "code",
   "execution_count": 10,
   "id": "alike-payday",
   "metadata": {},
   "outputs": [],
   "source": [
    "# merged.to_csv('../alt_data/merged_monthly_quarterly_data.csv')"
   ]
  },
  {
   "cell_type": "code",
   "execution_count": null,
   "id": "frank-butterfly",
   "metadata": {},
   "outputs": [],
   "source": []
  },
  {
   "cell_type": "code",
   "execution_count": null,
   "id": "living-pointer",
   "metadata": {},
   "outputs": [],
   "source": []
  },
  {
   "cell_type": "code",
   "execution_count": null,
   "id": "recorded-champion",
   "metadata": {},
   "outputs": [],
   "source": []
  },
  {
   "cell_type": "code",
   "execution_count": null,
   "id": "indie-bradford",
   "metadata": {},
   "outputs": [],
   "source": []
  },
  {
   "cell_type": "code",
   "execution_count": null,
   "id": "tracked-joshua",
   "metadata": {},
   "outputs": [],
   "source": []
  }
 ],
 "metadata": {
  "kernelspec": {
   "display_name": "Python 3",
   "language": "python",
   "name": "python3"
  },
  "language_info": {
   "codemirror_mode": {
    "name": "ipython",
    "version": 3
   },
   "file_extension": ".py",
   "mimetype": "text/x-python",
   "name": "python",
   "nbconvert_exporter": "python",
   "pygments_lexer": "ipython3",
   "version": "3.8.8"
  }
 },
 "nbformat": 4,
 "nbformat_minor": 5
}
