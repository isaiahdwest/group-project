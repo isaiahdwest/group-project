{
 "cells": [
  {
   "cell_type": "code",
   "execution_count": 15,
   "id": "welsh-twins",
   "metadata": {},
   "outputs": [],
   "source": [
    "import numpy as np\n",
    "import pandas as pd\n",
    "import matplotlib.pyplot as plt\n",
    "import seaborn as sns\n",
    "\n",
    "from sklearn.model_selection import train_test_split, GridSearchCV\n",
    "from sklearn.pipeline import Pipeline\n",
    "from sklearn.preprocessing import StandardScaler\n",
    "from sklearn.metrics import mean_squared_error\n",
    "from sklearn.ensemble import RandomForestRegressor\n",
    "from sklearn.multioutput import MultiOutputRegressor\n",
    "from sklearn.linear_model import LinearRegression"
   ]
  },
  {
   "cell_type": "code",
   "execution_count": 2,
   "id": "better-convertible",
   "metadata": {},
   "outputs": [],
   "source": [
    "project = pd.read_csv('../../alt_data/complete_final_data.csv')"
   ]
  },
  {
   "cell_type": "code",
   "execution_count": 3,
   "id": "comparative-rendering",
   "metadata": {},
   "outputs": [],
   "source": [
    "project['DATE'] = pd.to_datetime(project['DATE']).dt.to_period('M')"
   ]
  },
  {
   "cell_type": "code",
   "execution_count": 4,
   "id": "experienced-lloyd",
   "metadata": {},
   "outputs": [],
   "source": [
    "project.set_index('DATE', inplace=True)"
   ]
  },
  {
   "cell_type": "code",
   "execution_count": 5,
   "id": "behind-colombia",
   "metadata": {},
   "outputs": [],
   "source": [
    "X = project.drop(columns=['target_retail',\n",
    "                 'target_mining_logging',\n",
    "                 'target_construction',\n",
    "                 'target_edu_health',\n",
    "                 'target_manufacturing',\n",
    "                 'target_prof_business',\n",
    "                 'target_gov',\n",
    "                 'target_leisure_hospitality'])\n",
    "y = project[['target_retail',\n",
    "                 'target_mining_logging',\n",
    "                 'target_construction',\n",
    "                 'target_edu_health',\n",
    "                 'target_manufacturing',\n",
    "                 'target_prof_business',\n",
    "                 'target_gov',\n",
    "                 'target_leisure_hospitality']]"
   ]
  },
  {
   "cell_type": "code",
   "execution_count": 6,
   "id": "covered-regression",
   "metadata": {},
   "outputs": [],
   "source": [
    "X_train, X_test, y_train, y_test = train_test_split(X, y, random_state=42)"
   ]
  },
  {
   "cell_type": "code",
   "execution_count": 7,
   "id": "obvious-bloom",
   "metadata": {},
   "outputs": [
    {
     "data": {
      "text/plain": [
       "(415, 22)"
      ]
     },
     "execution_count": 7,
     "metadata": {},
     "output_type": "execute_result"
    }
   ],
   "source": [
    "X_train.shape"
   ]
  },
  {
   "cell_type": "code",
   "execution_count": 8,
   "id": "fewer-suggestion",
   "metadata": {},
   "outputs": [
    {
     "data": {
      "text/plain": [
       "(415, 8)"
      ]
     },
     "execution_count": 8,
     "metadata": {},
     "output_type": "execute_result"
    }
   ],
   "source": [
    "y_train.shape"
   ]
  },
  {
   "cell_type": "code",
   "execution_count": 9,
   "id": "caring-legend",
   "metadata": {},
   "outputs": [
    {
     "data": {
      "text/plain": [
       "(139, 22)"
      ]
     },
     "execution_count": 9,
     "metadata": {},
     "output_type": "execute_result"
    }
   ],
   "source": [
    "X_test.shape"
   ]
  },
  {
   "cell_type": "code",
   "execution_count": 10,
   "id": "funky-occasion",
   "metadata": {},
   "outputs": [
    {
     "data": {
      "text/plain": [
       "(139, 8)"
      ]
     },
     "execution_count": 10,
     "metadata": {},
     "output_type": "execute_result"
    }
   ],
   "source": [
    "y_test.shape"
   ]
  },
  {
   "cell_type": "code",
   "execution_count": 11,
   "id": "acting-wilson",
   "metadata": {},
   "outputs": [
    {
     "data": {
      "text/plain": [
       "MultiOutputRegressor(estimator=RandomForestRegressor(max_depth=30,\n",
       "                                                     random_state=0))"
      ]
     },
     "execution_count": 11,
     "metadata": {},
     "output_type": "execute_result"
    }
   ],
   "source": [
    "multi_rf = MultiOutputRegressor(RandomForestRegressor(n_estimators=100, \n",
    "                                                      max_depth=30, \n",
    "                                                      random_state=0))\n",
    "\n",
    "multi_rf.fit(X_train, y_train)"
   ]
  },
  {
   "cell_type": "code",
   "execution_count": 12,
   "id": "satisfied-istanbul",
   "metadata": {},
   "outputs": [
    {
     "data": {
      "text/plain": [
       "0.9994982533947272"
      ]
     },
     "execution_count": 12,
     "metadata": {},
     "output_type": "execute_result"
    }
   ],
   "source": [
    "multi_rf.score(X_train, y_train)"
   ]
  },
  {
   "cell_type": "code",
   "execution_count": 13,
   "id": "prime-order",
   "metadata": {},
   "outputs": [
    {
     "data": {
      "text/plain": [
       "0.9950887887313007"
      ]
     },
     "execution_count": 13,
     "metadata": {},
     "output_type": "execute_result"
    }
   ],
   "source": [
    "multi_rf.score(X_test, y_test)"
   ]
  },
  {
   "cell_type": "code",
   "execution_count": 24,
   "id": "present-coffee",
   "metadata": {},
   "outputs": [
    {
     "data": {
      "text/plain": [
       "(139, 8)"
      ]
     },
     "execution_count": 24,
     "metadata": {},
     "output_type": "execute_result"
    }
   ],
   "source": [
    "multi_rf.predict(X_test).shape"
   ]
  },
  {
   "cell_type": "code",
   "execution_count": null,
   "id": "norwegian-battlefield",
   "metadata": {},
   "outputs": [],
   "source": []
  },
  {
   "cell_type": "code",
   "execution_count": null,
   "id": "industrial-techno",
   "metadata": {},
   "outputs": [],
   "source": []
  },
  {
   "cell_type": "code",
   "execution_count": 14,
   "id": "comprehensive-anderson",
   "metadata": {},
   "outputs": [],
   "source": [
    "# pipe = Pipeline([\n",
    "#     ('sc', StandardScaler()),\n",
    "#     ('rf', RandomForestRegressor())\n",
    "# ])\n",
    "\n",
    "# params = {\n",
    "#     'rf__n_estimators': [75, 100, 125],\n",
    "#     'rf__min_samples_leaf': [1, 3, 5],\n",
    "#     'rf__ccp_alpha': [0.0, 0.01, 0.001],\n",
    "#     'rf__max_depth': [2, 5, 10]\n",
    "# }\n",
    "\n",
    "# gs = GridSearchCV(pipe, param_grid=params, cv=5, verbose=1)\n",
    "\n",
    "# gs.fit(X_train, y_train)"
   ]
  }
 ],
 "metadata": {
  "kernelspec": {
   "display_name": "Python 3",
   "language": "python",
   "name": "python3"
  },
  "language_info": {
   "codemirror_mode": {
    "name": "ipython",
    "version": 3
   },
   "file_extension": ".py",
   "mimetype": "text/x-python",
   "name": "python",
   "nbconvert_exporter": "python",
   "pygments_lexer": "ipython3",
   "version": "3.8.8"
  }
 },
 "nbformat": 4,
 "nbformat_minor": 5
}
