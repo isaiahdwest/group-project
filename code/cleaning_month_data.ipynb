{
 "cells": [
  {
   "cell_type": "code",
   "execution_count": 1,
   "id": "configured-burner",
   "metadata": {},
   "outputs": [],
   "source": [
    "import numpy as np\n",
    "import pandas as pd\n",
    "import os"
   ]
  },
  {
   "cell_type": "code",
   "execution_count": 2,
   "id": "qualified-worker",
   "metadata": {},
   "outputs": [
    {
     "data": {
      "text/plain": [
       "['avg_weeks_unemp.csv',\n",
       " 'cont_claim_insur_unemp.csv',\n",
       " 'employ_level.csv',\n",
       " 'gov_unemp_insur.csv',\n",
       " 'labor_force_partic_rate.csv',\n",
       " 'loans.csv',\n",
       " 'm1_real.csv',\n",
       " 'num_unemp_timeframe.csv',\n",
       " 'personal_consump_exp.csv',\n",
       " 'personal_save_rate.csv',\n",
       " 'unemp_rate_emp_pop_ratio.csv']"
      ]
     },
     "execution_count": 2,
     "metadata": {},
     "output_type": "execute_result"
    }
   ],
   "source": [
    "monthly_list = os.listdir('../alt_data/monthly_data/')\n",
    "monthly_list"
   ]
  },
  {
   "cell_type": "code",
   "execution_count": 3,
   "id": "current-middle",
   "metadata": {},
   "outputs": [],
   "source": [
    "list_of_dfs=[]\n",
    "\n",
    "for csv in monthly_list:\n",
    "    list_of_dfs.append(pd.read_csv(f'../alt_data/monthly_data/{csv}'))\n"
   ]
  },
  {
   "cell_type": "code",
   "execution_count": 4,
   "id": "american-winter",
   "metadata": {},
   "outputs": [
    {
     "data": {
      "text/plain": [
       "878"
      ]
     },
     "execution_count": 4,
     "metadata": {},
     "output_type": "execute_result"
    }
   ],
   "source": [
    "monthly = list_of_dfs[0].merge(list_of_dfs[1], how='left', on='DATE')\n",
    "len(monthly)"
   ]
  },
  {
   "cell_type": "code",
   "execution_count": 5,
   "id": "accepting-premium",
   "metadata": {},
   "outputs": [],
   "source": [
    "for i in range(2, len(list_of_dfs)):\n",
    "    if len(monthly) >= len(list_of_dfs[i]):\n",
    "        monthly = monthly.merge(list_of_dfs[i], how='left', on='DATE')\n",
    "    else:\n",
    "        monthly = monthly.merge(list_of_dfs[i], how='right', on='DATE')\n",
    "        "
   ]
  },
  {
   "cell_type": "code",
   "execution_count": 6,
   "id": "interim-capacity",
   "metadata": {},
   "outputs": [],
   "source": [
    "monthly.rename(columns={\n",
    "    'UEMPMEAN':'avg_weeks_unemployed',\n",
    "    'CCSA':'cont_claims_insur_unemploy',\n",
    "    'CE16OV':'full_employ_level',\n",
    "    'LNS12032194':'part_employ_level',\n",
    "    'LNS15000000':'not_in_labor_force',\n",
    "    'W825RC1':'gov_unemp_insur',\n",
    "    'LNS11300002':'labor_particip_women',\n",
    "    'LNS11300001':'labor_particip_men',\n",
    "    'CIVPART':'labor_particip_total',\n",
    "    'REALLN':'real_estate_loans',\n",
    "    'CONSUMER':'consumer_loans',\n",
    "    'BUSLOANS':'commerc_indust_loans',\n",
    "    'M1REAL':'m1_real',\n",
    "    'UEMPLT5':'unemp_less_five_weeks',\n",
    "    'UEMP5TO14':'unemp_5_to_14_wks',\n",
    "    'UEMP15T26':'unemp_15_to_26_wks',\n",
    "    'UEMP27OV':'unemp_over_27_wks',\n",
    "    'PCE':'personal_consum_exp',\n",
    "    'PSAVERT':'personal_save_rate',\n",
    "    'EMRATIO':'emp_pop_ratio',\n",
    "    'UNRATE':'unemploy_rate',\n",
    "    'IURSA':'insured_unemploy_rate'\n",
    "}, inplace=True)"
   ]
  },
  {
   "cell_type": "code",
   "execution_count": 7,
   "id": "mathematical-mercury",
   "metadata": {},
   "outputs": [],
   "source": [
    "monthly['not_in_labor_force'].replace('.', np.nan, inplace=True)"
   ]
  },
  {
   "cell_type": "code",
   "execution_count": 8,
   "id": "religious-fabric",
   "metadata": {},
   "outputs": [],
   "source": [
    "monthly.dropna(inplace=True)"
   ]
  },
  {
   "cell_type": "code",
   "execution_count": 9,
   "id": "marked-version",
   "metadata": {},
   "outputs": [],
   "source": [
    "monthly['DATE'] = pd.to_datetime(monthly['DATE']).dt.to_period('M')"
   ]
  },
  {
   "cell_type": "code",
   "execution_count": 10,
   "id": "coral-history",
   "metadata": {},
   "outputs": [],
   "source": [
    "monthly.set_index('DATE', inplace=True)"
   ]
  },
  {
   "cell_type": "code",
   "execution_count": 11,
   "id": "fatty-theology",
   "metadata": {},
   "outputs": [],
   "source": [
    "monthly['cont_claims_insur_unemploy'] = monthly['cont_claims_insur_unemploy'].astype(float)"
   ]
  },
  {
   "cell_type": "code",
   "execution_count": 12,
   "id": "metropolitan-folder",
   "metadata": {},
   "outputs": [],
   "source": [
    "monthly['part_employ_level'] = monthly['part_employ_level'].astype(float)"
   ]
  },
  {
   "cell_type": "code",
   "execution_count": 13,
   "id": "infinite-certification",
   "metadata": {},
   "outputs": [],
   "source": [
    "monthly['not_in_labor_force'] = monthly['not_in_labor_force'].astype(float)"
   ]
  },
  {
   "cell_type": "code",
   "execution_count": 14,
   "id": "civil-genesis",
   "metadata": {},
   "outputs": [],
   "source": [
    "monthly['emp_pop_ratio'] = monthly['emp_pop_ratio'].astype(float)"
   ]
  },
  {
   "cell_type": "code",
   "execution_count": 15,
   "id": "bright-fifty",
   "metadata": {},
   "outputs": [],
   "source": [
    "monthly['unemploy_rate'] = monthly['unemploy_rate'].astype(float)"
   ]
  },
  {
   "cell_type": "code",
   "execution_count": 16,
   "id": "beautiful-tuning",
   "metadata": {},
   "outputs": [],
   "source": [
    "monthly['insured_unemploy_rate'] = monthly['insured_unemploy_rate'].astype(float)"
   ]
  },
  {
   "cell_type": "code",
   "execution_count": 17,
   "id": "involved-patch",
   "metadata": {},
   "outputs": [
    {
     "name": "stdout",
     "output_type": "stream",
     "text": [
      "<class 'pandas.core.frame.DataFrame'>\n",
      "PeriodIndex: 554 entries, 1975-01 to 2021-02\n",
      "Freq: M\n",
      "Data columns (total 22 columns):\n",
      " #   Column                      Non-Null Count  Dtype  \n",
      "---  ------                      --------------  -----  \n",
      " 0   avg_weeks_unemployed        554 non-null    float64\n",
      " 1   cont_claims_insur_unemploy  554 non-null    float64\n",
      " 2   full_employ_level           554 non-null    float64\n",
      " 3   part_employ_level           554 non-null    float64\n",
      " 4   not_in_labor_force          554 non-null    float64\n",
      " 5   gov_unemp_insur             554 non-null    float64\n",
      " 6   labor_particip_women        554 non-null    float64\n",
      " 7   labor_particip_men          554 non-null    float64\n",
      " 8   labor_particip_total        554 non-null    float64\n",
      " 9   real_estate_loans           554 non-null    float64\n",
      " 10  consumer_loans              554 non-null    float64\n",
      " 11  commerc_indust_loans        554 non-null    float64\n",
      " 12  m1_real                     554 non-null    float64\n",
      " 13  unemp_less_five_weeks       554 non-null    float64\n",
      " 14  unemp_5_to_14_wks           554 non-null    float64\n",
      " 15  unemp_15_to_26_wks          554 non-null    float64\n",
      " 16  unemp_over_27_wks           554 non-null    float64\n",
      " 17  personal_consum_exp         554 non-null    float64\n",
      " 18  personal_save_rate          554 non-null    float64\n",
      " 19  emp_pop_ratio               554 non-null    float64\n",
      " 20  unemploy_rate               554 non-null    float64\n",
      " 21  insured_unemploy_rate       554 non-null    float64\n",
      "dtypes: float64(22)\n",
      "memory usage: 99.5 KB\n"
     ]
    }
   ],
   "source": [
    "monthly.info()"
   ]
  },
  {
   "cell_type": "code",
   "execution_count": 18,
   "id": "progressive-dealing",
   "metadata": {},
   "outputs": [
    {
     "data": {
      "text/html": [
       "<div>\n",
       "<style scoped>\n",
       "    .dataframe tbody tr th:only-of-type {\n",
       "        vertical-align: middle;\n",
       "    }\n",
       "\n",
       "    .dataframe tbody tr th {\n",
       "        vertical-align: top;\n",
       "    }\n",
       "\n",
       "    .dataframe thead th {\n",
       "        text-align: right;\n",
       "    }\n",
       "</style>\n",
       "<table border=\"1\" class=\"dataframe\">\n",
       "  <thead>\n",
       "    <tr style=\"text-align: right;\">\n",
       "      <th></th>\n",
       "      <th>avg_weeks_unemployed</th>\n",
       "      <th>cont_claims_insur_unemploy</th>\n",
       "      <th>full_employ_level</th>\n",
       "      <th>part_employ_level</th>\n",
       "      <th>not_in_labor_force</th>\n",
       "      <th>gov_unemp_insur</th>\n",
       "      <th>labor_particip_women</th>\n",
       "      <th>labor_particip_men</th>\n",
       "      <th>labor_particip_total</th>\n",
       "      <th>real_estate_loans</th>\n",
       "      <th>...</th>\n",
       "      <th>m1_real</th>\n",
       "      <th>unemp_less_five_weeks</th>\n",
       "      <th>unemp_5_to_14_wks</th>\n",
       "      <th>unemp_15_to_26_wks</th>\n",
       "      <th>unemp_over_27_wks</th>\n",
       "      <th>personal_consum_exp</th>\n",
       "      <th>personal_save_rate</th>\n",
       "      <th>emp_pop_ratio</th>\n",
       "      <th>unemploy_rate</th>\n",
       "      <th>insured_unemploy_rate</th>\n",
       "    </tr>\n",
       "    <tr>\n",
       "      <th>DATE</th>\n",
       "      <th></th>\n",
       "      <th></th>\n",
       "      <th></th>\n",
       "      <th></th>\n",
       "      <th></th>\n",
       "      <th></th>\n",
       "      <th></th>\n",
       "      <th></th>\n",
       "      <th></th>\n",
       "      <th></th>\n",
       "      <th></th>\n",
       "      <th></th>\n",
       "      <th></th>\n",
       "      <th></th>\n",
       "      <th></th>\n",
       "      <th></th>\n",
       "      <th></th>\n",
       "      <th></th>\n",
       "      <th></th>\n",
       "      <th></th>\n",
       "      <th></th>\n",
       "    </tr>\n",
       "  </thead>\n",
       "  <tbody>\n",
       "    <tr>\n",
       "      <th>1975-01</th>\n",
       "      <td>10.7</td>\n",
       "      <td>3619250.0</td>\n",
       "      <td>85627.0</td>\n",
       "      <td>4133.0</td>\n",
       "      <td>58627.0</td>\n",
       "      <td>12.0</td>\n",
       "      <td>46.3</td>\n",
       "      <td>78.3</td>\n",
       "      <td>61.4</td>\n",
       "      <td>130.0257</td>\n",
       "      <td>...</td>\n",
       "      <td>523.7</td>\n",
       "      <td>3293.0</td>\n",
       "      <td>2646.0</td>\n",
       "      <td>930.0</td>\n",
       "      <td>625.0</td>\n",
       "      <td>975.6</td>\n",
       "      <td>13.2</td>\n",
       "      <td>56.4</td>\n",
       "      <td>8.1</td>\n",
       "      <td>5.500</td>\n",
       "    </tr>\n",
       "    <tr>\n",
       "      <th>1975-02</th>\n",
       "      <td>11.7</td>\n",
       "      <td>3856500.0</td>\n",
       "      <td>85256.0</td>\n",
       "      <td>3994.0</td>\n",
       "      <td>59214.0</td>\n",
       "      <td>14.0</td>\n",
       "      <td>45.9</td>\n",
       "      <td>78.0</td>\n",
       "      <td>61.0</td>\n",
       "      <td>130.6318</td>\n",
       "      <td>...</td>\n",
       "      <td>522.8</td>\n",
       "      <td>2947.0</td>\n",
       "      <td>2616.0</td>\n",
       "      <td>1124.0</td>\n",
       "      <td>717.0</td>\n",
       "      <td>989.4</td>\n",
       "      <td>12.5</td>\n",
       "      <td>56.1</td>\n",
       "      <td>8.1</td>\n",
       "      <td>5.875</td>\n",
       "    </tr>\n",
       "    <tr>\n",
       "      <th>1975-03</th>\n",
       "      <td>11.8</td>\n",
       "      <td>4175200.0</td>\n",
       "      <td>85187.0</td>\n",
       "      <td>4087.0</td>\n",
       "      <td>59052.0</td>\n",
       "      <td>16.5</td>\n",
       "      <td>46.2</td>\n",
       "      <td>78.0</td>\n",
       "      <td>61.2</td>\n",
       "      <td>131.1786</td>\n",
       "      <td>...</td>\n",
       "      <td>523.5</td>\n",
       "      <td>3193.0</td>\n",
       "      <td>2630.0</td>\n",
       "      <td>1305.0</td>\n",
       "      <td>769.0</td>\n",
       "      <td>990.6</td>\n",
       "      <td>12.7</td>\n",
       "      <td>56.0</td>\n",
       "      <td>8.6</td>\n",
       "      <td>6.340</td>\n",
       "    </tr>\n",
       "    <tr>\n",
       "      <th>1975-04</th>\n",
       "      <td>12.9</td>\n",
       "      <td>4473500.0</td>\n",
       "      <td>85189.0</td>\n",
       "      <td>4179.0</td>\n",
       "      <td>59044.0</td>\n",
       "      <td>18.8</td>\n",
       "      <td>46.3</td>\n",
       "      <td>78.1</td>\n",
       "      <td>61.3</td>\n",
       "      <td>131.6391</td>\n",
       "      <td>...</td>\n",
       "      <td>521.1</td>\n",
       "      <td>2915.0</td>\n",
       "      <td>2719.0</td>\n",
       "      <td>1478.0</td>\n",
       "      <td>964.0</td>\n",
       "      <td>995.0</td>\n",
       "      <td>14.2</td>\n",
       "      <td>55.9</td>\n",
       "      <td>8.8</td>\n",
       "      <td>6.750</td>\n",
       "    </tr>\n",
       "    <tr>\n",
       "      <th>1975-05</th>\n",
       "      <td>13.4</td>\n",
       "      <td>4578200.0</td>\n",
       "      <td>85451.0</td>\n",
       "      <td>3972.0</td>\n",
       "      <td>58820.0</td>\n",
       "      <td>19.6</td>\n",
       "      <td>46.4</td>\n",
       "      <td>78.3</td>\n",
       "      <td>61.5</td>\n",
       "      <td>131.7233</td>\n",
       "      <td>...</td>\n",
       "      <td>525.8</td>\n",
       "      <td>3051.0</td>\n",
       "      <td>2692.0</td>\n",
       "      <td>1554.0</td>\n",
       "      <td>1089.0</td>\n",
       "      <td>1018.9</td>\n",
       "      <td>17.3</td>\n",
       "      <td>56.0</td>\n",
       "      <td>9.0</td>\n",
       "      <td>6.880</td>\n",
       "    </tr>\n",
       "  </tbody>\n",
       "</table>\n",
       "<p>5 rows × 22 columns</p>\n",
       "</div>"
      ],
      "text/plain": [
       "         avg_weeks_unemployed  cont_claims_insur_unemploy  full_employ_level  \\\n",
       "DATE                                                                           \n",
       "1975-01                  10.7                   3619250.0            85627.0   \n",
       "1975-02                  11.7                   3856500.0            85256.0   \n",
       "1975-03                  11.8                   4175200.0            85187.0   \n",
       "1975-04                  12.9                   4473500.0            85189.0   \n",
       "1975-05                  13.4                   4578200.0            85451.0   \n",
       "\n",
       "         part_employ_level  not_in_labor_force  gov_unemp_insur  \\\n",
       "DATE                                                              \n",
       "1975-01             4133.0             58627.0             12.0   \n",
       "1975-02             3994.0             59214.0             14.0   \n",
       "1975-03             4087.0             59052.0             16.5   \n",
       "1975-04             4179.0             59044.0             18.8   \n",
       "1975-05             3972.0             58820.0             19.6   \n",
       "\n",
       "         labor_particip_women  labor_particip_men  labor_particip_total  \\\n",
       "DATE                                                                      \n",
       "1975-01                  46.3                78.3                  61.4   \n",
       "1975-02                  45.9                78.0                  61.0   \n",
       "1975-03                  46.2                78.0                  61.2   \n",
       "1975-04                  46.3                78.1                  61.3   \n",
       "1975-05                  46.4                78.3                  61.5   \n",
       "\n",
       "         real_estate_loans  ...  m1_real  unemp_less_five_weeks  \\\n",
       "DATE                        ...                                   \n",
       "1975-01           130.0257  ...    523.7                 3293.0   \n",
       "1975-02           130.6318  ...    522.8                 2947.0   \n",
       "1975-03           131.1786  ...    523.5                 3193.0   \n",
       "1975-04           131.6391  ...    521.1                 2915.0   \n",
       "1975-05           131.7233  ...    525.8                 3051.0   \n",
       "\n",
       "         unemp_5_to_14_wks  unemp_15_to_26_wks  unemp_over_27_wks  \\\n",
       "DATE                                                                \n",
       "1975-01             2646.0               930.0              625.0   \n",
       "1975-02             2616.0              1124.0              717.0   \n",
       "1975-03             2630.0              1305.0              769.0   \n",
       "1975-04             2719.0              1478.0              964.0   \n",
       "1975-05             2692.0              1554.0             1089.0   \n",
       "\n",
       "         personal_consum_exp  personal_save_rate  emp_pop_ratio  \\\n",
       "DATE                                                              \n",
       "1975-01                975.6                13.2           56.4   \n",
       "1975-02                989.4                12.5           56.1   \n",
       "1975-03                990.6                12.7           56.0   \n",
       "1975-04                995.0                14.2           55.9   \n",
       "1975-05               1018.9                17.3           56.0   \n",
       "\n",
       "         unemploy_rate  insured_unemploy_rate  \n",
       "DATE                                           \n",
       "1975-01            8.1                  5.500  \n",
       "1975-02            8.1                  5.875  \n",
       "1975-03            8.6                  6.340  \n",
       "1975-04            8.8                  6.750  \n",
       "1975-05            9.0                  6.880  \n",
       "\n",
       "[5 rows x 22 columns]"
      ]
     },
     "execution_count": 18,
     "metadata": {},
     "output_type": "execute_result"
    }
   ],
   "source": [
    "monthly.head()"
   ]
  },
  {
   "cell_type": "code",
   "execution_count": null,
   "id": "material-database",
   "metadata": {},
   "outputs": [],
   "source": []
  },
  {
   "cell_type": "code",
   "execution_count": 19,
   "id": "advance-negative",
   "metadata": {},
   "outputs": [],
   "source": [
    "# monthly.to_csv('../alt_data/monthly_data.csv')"
   ]
  },
  {
   "cell_type": "code",
   "execution_count": null,
   "id": "fatal-bulgarian",
   "metadata": {},
   "outputs": [],
   "source": []
  }
 ],
 "metadata": {
  "kernelspec": {
   "display_name": "Python 3",
   "language": "python",
   "name": "python3"
  },
  "language_info": {
   "codemirror_mode": {
    "name": "ipython",
    "version": 3
   },
   "file_extension": ".py",
   "mimetype": "text/x-python",
   "name": "python",
   "nbconvert_exporter": "python",
   "pygments_lexer": "ipython3",
   "version": "3.8.8"
  }
 },
 "nbformat": 4,
 "nbformat_minor": 5
}
